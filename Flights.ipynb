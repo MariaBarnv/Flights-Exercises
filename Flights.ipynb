{
 "cells": [
  {
   "cell_type": "code",
   "execution_count": 0,
   "metadata": {
    "application/vnd.databricks.v1+cell": {
     "cellMetadata": {
      "byteLimit": 2048000,
      "rowLimit": 10000
     },
     "inputWidgets": {},
     "nuid": "6482be4c-f067-47c9-b0ac-35c938b94601",
     "showTitle": false,
     "tableResultSettingsMap": {},
     "title": ""
    }
   },
   "outputs": [],
   "source": [
    "# File location and type\n",
    "file_location = \"/FileStore/tables/flights_csv-4.gz\"\n",
    "file_type = \"csv\"\n",
    "\n",
    "# CSV options\n",
    "infer_schema = \"true\"\n",
    "first_row_is_header = \"true\"\n",
    "delimiter = \",\"\n",
    "\n",
    "# The applied options are for CSV files. For other file types, these will be ignored.\n",
    "df = spark.read.format(file_type) \\\n",
    "  .option(\"inferSchema\", infer_schema) \\\n",
    "  .option(\"header\", first_row_is_header) \\\n",
    "  .option(\"sep\", delimiter) \\\n",
    "  .load(file_location)\n",
    "\n"
   ]
  },
  {
   "cell_type": "code",
   "execution_count": 0,
   "metadata": {
    "application/vnd.databricks.v1+cell": {
     "cellMetadata": {
      "byteLimit": 2048000,
      "rowLimit": 10000
     },
     "inputWidgets": {},
     "nuid": "b32166c0-3932-41da-be90-26b5b4e77e6d",
     "showTitle": false,
     "tableResultSettingsMap": {},
     "title": ""
    }
   },
   "outputs": [
    {
     "output_type": "display_data",
     "data": {
      "text/html": [
       "<style scoped>\n",
       "  .table-result-container {\n",
       "    max-height: 300px;\n",
       "    overflow: auto;\n",
       "  }\n",
       "  table, th, td {\n",
       "    border: 1px solid black;\n",
       "    border-collapse: collapse;\n",
       "  }\n",
       "  th, td {\n",
       "    padding: 5px;\n",
       "  }\n",
       "  th {\n",
       "    text-align: left;\n",
       "  }\n",
       "</style><div class='table-result-container'><table class='table-result'><thead style='background-color: white'><tr><th>path</th><th>name</th><th>size</th><th>modificationTime</th></tr></thead><tbody><tr><td>dbfs:/FileStore/tables/10__Decision_trees.zip</td><td>10__Decision_trees.zip</td><td>2214973</td><td>1701368050000</td></tr><tr><td>dbfs:/FileStore/tables/Electric_Vehicle-1.csv</td><td>Electric_Vehicle-1.csv</td><td>34789557</td><td>1705672031000</td></tr><tr><td>dbfs:/FileStore/tables/Electric_Vehicle.csv</td><td>Electric_Vehicle.csv</td><td>34789557</td><td>1705671792000</td></tr><tr><td>dbfs:/FileStore/tables/Electric_Vehicle_Population_Data.csv</td><td>Electric_Vehicle_Population_Data.csv</td><td>34788380</td><td>1705669789000</td></tr><tr><td>dbfs:/FileStore/tables/Electric_Vehicle_Population_Data_csv-1.zip</td><td>Electric_Vehicle_Population_Data_csv-1.zip</td><td>4997812</td><td>1705669681000</td></tr><tr><td>dbfs:/FileStore/tables/Electric_Vehicle_Population_Data_csv.zip</td><td>Electric_Vehicle_Population_Data_csv.zip</td><td>4997812</td><td>1705669561000</td></tr><tr><td>dbfs:/FileStore/tables/airlines-1.csv</td><td>airlines-1.csv</td><td>359</td><td>1701123356000</td></tr><tr><td>dbfs:/FileStore/tables/airlines-2.csv</td><td>airlines-2.csv</td><td>359</td><td>1701124273000</td></tr><tr><td>dbfs:/FileStore/tables/airlines.csv</td><td>airlines.csv</td><td>359</td><td>1701123197000</td></tr><tr><td>dbfs:/FileStore/tables/airports-1.csv</td><td>airports-1.csv</td><td>23867</td><td>1701123356000</td></tr><tr><td>dbfs:/FileStore/tables/airports-2.csv</td><td>airports-2.csv</td><td>23867</td><td>1701123911000</td></tr><tr><td>dbfs:/FileStore/tables/airports.csv</td><td>airports.csv</td><td>23867</td><td>1701123197000</td></tr><tr><td>dbfs:/FileStore/tables/diamonds.csv</td><td>diamonds.csv</td><td>3192560</td><td>1701368244000</td></tr><tr><td>dbfs:/FileStore/tables/flights.zip</td><td>flights.zip</td><td>26951126</td><td>1699866790000</td></tr><tr><td>dbfs:/FileStore/tables/flights_csv-1.gz</td><td>flights_csv-1.gz</td><td>29172655</td><td>1701111643000</td></tr><tr><td>dbfs:/FileStore/tables/flights_csv-2.gz</td><td>flights_csv-2.gz</td><td>29172655</td><td>1701123478000</td></tr><tr><td>dbfs:/FileStore/tables/flights_csv-3.gz</td><td>flights_csv-3.gz</td><td>29172655</td><td>1701124179000</td></tr><tr><td>dbfs:/FileStore/tables/flights_csv-4.gz</td><td>flights_csv-4.gz</td><td>29172655</td><td>1701124200000</td></tr><tr><td>dbfs:/FileStore/tables/flights_csv.gz</td><td>flights_csv.gz</td><td>29172655</td><td>1699867408000</td></tr><tr><td>dbfs:/FileStore/tables/followers.txt</td><td>followers.txt</td><td>32</td><td>1701683656000</td></tr><tr><td>dbfs:/FileStore/tables/mtpl.csv</td><td>mtpl.csv</td><td>31706540</td><td>1736471758000</td></tr><tr><td>dbfs:/FileStore/tables/telco-1.csv</td><td>telco-1.csv</td><td>977501</td><td>1698048470000</td></tr><tr><td>dbfs:/FileStore/tables/telco.csv</td><td>telco.csv</td><td>977501</td><td>1698048398000</td></tr><tr><td>dbfs:/FileStore/tables/telco__1_-1.csv</td><td>telco__1_-1.csv</td><td>977501</td><td>1699865773000</td></tr><tr><td>dbfs:/FileStore/tables/telco__1_.csv</td><td>telco__1_.csv</td><td>977501</td><td>1699731441000</td></tr><tr><td>dbfs:/FileStore/tables/users_age.txt</td><td>users_age.txt</td><td>218</td><td>1701683547000</td></tr></tbody></table></div>"
      ]
     },
     "metadata": {
      "application/vnd.databricks.v1+output": {
       "addedWidgets": {},
       "aggData": [],
       "aggError": "",
       "aggOverflow": false,
       "aggSchema": [],
       "aggSeriesLimitReached": false,
       "aggType": "",
       "arguments": {},
       "columnCustomDisplayInfos": {},
       "data": [
        [
         "dbfs:/FileStore/tables/10__Decision_trees.zip",
         "10__Decision_trees.zip",
         2214973,
         1701368050000
        ],
        [
         "dbfs:/FileStore/tables/Electric_Vehicle-1.csv",
         "Electric_Vehicle-1.csv",
         34789557,
         1705672031000
        ],
        [
         "dbfs:/FileStore/tables/Electric_Vehicle.csv",
         "Electric_Vehicle.csv",
         34789557,
         1705671792000
        ],
        [
         "dbfs:/FileStore/tables/Electric_Vehicle_Population_Data.csv",
         "Electric_Vehicle_Population_Data.csv",
         34788380,
         1705669789000
        ],
        [
         "dbfs:/FileStore/tables/Electric_Vehicle_Population_Data_csv-1.zip",
         "Electric_Vehicle_Population_Data_csv-1.zip",
         4997812,
         1705669681000
        ],
        [
         "dbfs:/FileStore/tables/Electric_Vehicle_Population_Data_csv.zip",
         "Electric_Vehicle_Population_Data_csv.zip",
         4997812,
         1705669561000
        ],
        [
         "dbfs:/FileStore/tables/airlines-1.csv",
         "airlines-1.csv",
         359,
         1701123356000
        ],
        [
         "dbfs:/FileStore/tables/airlines-2.csv",
         "airlines-2.csv",
         359,
         1701124273000
        ],
        [
         "dbfs:/FileStore/tables/airlines.csv",
         "airlines.csv",
         359,
         1701123197000
        ],
        [
         "dbfs:/FileStore/tables/airports-1.csv",
         "airports-1.csv",
         23867,
         1701123356000
        ],
        [
         "dbfs:/FileStore/tables/airports-2.csv",
         "airports-2.csv",
         23867,
         1701123911000
        ],
        [
         "dbfs:/FileStore/tables/airports.csv",
         "airports.csv",
         23867,
         1701123197000
        ],
        [
         "dbfs:/FileStore/tables/diamonds.csv",
         "diamonds.csv",
         3192560,
         1701368244000
        ],
        [
         "dbfs:/FileStore/tables/flights.zip",
         "flights.zip",
         26951126,
         1699866790000
        ],
        [
         "dbfs:/FileStore/tables/flights_csv-1.gz",
         "flights_csv-1.gz",
         29172655,
         1701111643000
        ],
        [
         "dbfs:/FileStore/tables/flights_csv-2.gz",
         "flights_csv-2.gz",
         29172655,
         1701123478000
        ],
        [
         "dbfs:/FileStore/tables/flights_csv-3.gz",
         "flights_csv-3.gz",
         29172655,
         1701124179000
        ],
        [
         "dbfs:/FileStore/tables/flights_csv-4.gz",
         "flights_csv-4.gz",
         29172655,
         1701124200000
        ],
        [
         "dbfs:/FileStore/tables/flights_csv.gz",
         "flights_csv.gz",
         29172655,
         1699867408000
        ],
        [
         "dbfs:/FileStore/tables/followers.txt",
         "followers.txt",
         32,
         1701683656000
        ],
        [
         "dbfs:/FileStore/tables/mtpl.csv",
         "mtpl.csv",
         31706540,
         1736471758000
        ],
        [
         "dbfs:/FileStore/tables/telco-1.csv",
         "telco-1.csv",
         977501,
         1698048470000
        ],
        [
         "dbfs:/FileStore/tables/telco.csv",
         "telco.csv",
         977501,
         1698048398000
        ],
        [
         "dbfs:/FileStore/tables/telco__1_-1.csv",
         "telco__1_-1.csv",
         977501,
         1699865773000
        ],
        [
         "dbfs:/FileStore/tables/telco__1_.csv",
         "telco__1_.csv",
         977501,
         1699731441000
        ],
        [
         "dbfs:/FileStore/tables/users_age.txt",
         "users_age.txt",
         218,
         1701683547000
        ]
       ],
       "datasetInfos": [],
       "dbfsResultPath": null,
       "isJsonSchema": true,
       "metadata": {
        "isDbfsCommandResult": false
       },
       "overflow": false,
       "plotOptions": {
        "customPlotOptions": {},
        "displayType": "table",
        "pivotAggregation": null,
        "pivotColumns": null,
        "xColumns": null,
        "yColumns": null
       },
       "removedWidgets": [],
       "schema": [
        {
         "metadata": "{}",
         "name": "path",
         "type": "\"string\""
        },
        {
         "metadata": "{}",
         "name": "name",
         "type": "\"string\""
        },
        {
         "metadata": "{}",
         "name": "size",
         "type": "\"long\""
        },
        {
         "metadata": "{}",
         "name": "modificationTime",
         "type": "\"long\""
        }
       ],
       "type": "table"
      }
     },
     "output_type": "display_data"
    }
   ],
   "source": [
    "%fs ls dbfs:/FileStore/tables/"
   ]
  },
  {
   "cell_type": "code",
   "execution_count": 0,
   "metadata": {
    "application/vnd.databricks.v1+cell": {
     "cellMetadata": {
      "byteLimit": 2048000,
      "rowLimit": 10000
     },
     "inputWidgets": {},
     "nuid": "bd82bb99-1479-4d5c-be10-8c36df0f1d44",
     "showTitle": false,
     "tableResultSettingsMap": {},
     "title": ""
    }
   },
   "outputs": [],
   "source": [
    "# Create a view or table\n",
    "\n",
    "temp_table_name = \"flights_csv\"\n",
    "\n",
    "df.createOrReplaceTempView(temp_table_name)"
   ]
  },
  {
   "cell_type": "code",
   "execution_count": 0,
   "metadata": {
    "application/vnd.databricks.v1+cell": {
     "cellMetadata": {
      "byteLimit": 2048000,
      "implicitDf": true,
      "rowLimit": 10000
     },
     "inputWidgets": {},
     "nuid": "1556cc96-3b4b-4074-a7b2-8312b0d78ed8",
     "showTitle": false,
     "tableResultSettingsMap": {},
     "title": ""
    }
   },
   "outputs": [
    {
     "output_type": "display_data",
     "data": {
      "text/html": [
       "<style scoped>\n",
       "  .table-result-container {\n",
       "    max-height: 300px;\n",
       "    overflow: auto;\n",
       "  }\n",
       "  table, th, td {\n",
       "    border: 1px solid black;\n",
       "    border-collapse: collapse;\n",
       "  }\n",
       "  th, td {\n",
       "    padding: 5px;\n",
       "  }\n",
       "  th {\n",
       "    text-align: left;\n",
       "  }\n",
       "</style><div class='table-result-container'><table class='table-result'><thead style='background-color: white'><tr><th>database</th><th>tableName</th><th>isTemporary</th></tr></thead><tbody><tr><td></td><td>flights_csv</td><td>true</td></tr></tbody></table></div>"
      ]
     },
     "metadata": {
      "application/vnd.databricks.v1+output": {
       "addedWidgets": {},
       "aggData": [],
       "aggError": "",
       "aggOverflow": false,
       "aggSchema": [],
       "aggSeriesLimitReached": false,
       "aggType": "",
       "arguments": {},
       "columnCustomDisplayInfos": {},
       "data": [
        [
         "",
         "flights_csv",
         true
        ]
       ],
       "datasetInfos": [],
       "dbfsResultPath": null,
       "isJsonSchema": true,
       "metadata": {},
       "overflow": false,
       "plotOptions": {
        "customPlotOptions": {},
        "displayType": "table",
        "pivotAggregation": null,
        "pivotColumns": null,
        "xColumns": null,
        "yColumns": null
       },
       "removedWidgets": [],
       "schema": [
        {
         "metadata": "{}",
         "name": "database",
         "type": "\"string\""
        },
        {
         "metadata": "{}",
         "name": "tableName",
         "type": "\"string\""
        },
        {
         "metadata": "{}",
         "name": "isTemporary",
         "type": "\"boolean\""
        }
       ],
       "type": "table"
      }
     },
     "output_type": "display_data"
    }
   ],
   "source": [
    "%sql\n",
    "show tables"
   ]
  },
  {
   "cell_type": "code",
   "execution_count": 0,
   "metadata": {
    "application/vnd.databricks.v1+cell": {
     "cellMetadata": {
      "byteLimit": 2048000,
      "rowLimit": 10000
     },
     "inputWidgets": {},
     "nuid": "db9631f6-bb4a-42ca-8a3c-0d48af932331",
     "showTitle": false,
     "tableResultSettingsMap": {},
     "title": ""
    }
   },
   "outputs": [],
   "source": [
    "# With this registered as a temp view, it will only be available to this particular notebook. If you'd like other users to be able to query this table, you can also create a table from the DataFrame.\n",
    "# Once saved, this table will persist across cluster restarts as well as allow various users across different notebooks to query this data.\n",
    "# To do so, choose your table name and uncomment the bottom line.\n",
    "\n",
    "permanent_table_name = \"flights\"\n",
    "\n",
    "#df.write.format(\"parquet\").saveAsTable(permanent_table_name)"
   ]
  },
  {
   "cell_type": "code",
   "execution_count": 0,
   "metadata": {
    "application/vnd.databricks.v1+cell": {
     "cellMetadata": {
      "byteLimit": 2048000,
      "rowLimit": 10000
     },
     "inputWidgets": {},
     "nuid": "7ecd4309-ff77-44e7-bcbe-d3265ec7f226",
     "showTitle": false,
     "tableResultSettingsMap": {},
     "title": ""
    }
   },
   "outputs": [],
   "source": [
    "# File location and type\n",
    "file_location = \"/FileStore/tables/airports.csv\"\n",
    "file_type = \"csv\"\n",
    "\n",
    "# CSV options\n",
    "infer_schema = \"true\"\n",
    "first_row_is_header = \"true\"\n",
    "delimiter = \",\"\n",
    "\n",
    "# The applied options are for CSV files. For other file types, these will be ignored.\n",
    "df_airports = spark.read.format(file_type) \\\n",
    "  .option(\"inferSchema\", infer_schema) \\\n",
    "  .option(\"header\", first_row_is_header) \\\n",
    "  .option(\"sep\", delimiter) \\\n",
    "  .load(file_location)\n",
    "\n",
    "\n",
    "temp_table_name = \"airports\"\n",
    "df_airports.createOrReplaceTempView(temp_table_name)\n",
    "\n"
   ]
  },
  {
   "cell_type": "code",
   "execution_count": 0,
   "metadata": {
    "application/vnd.databricks.v1+cell": {
     "cellMetadata": {
      "byteLimit": 2048000,
      "rowLimit": 10000
     },
     "inputWidgets": {},
     "nuid": "17a2f9f8-5b91-41a3-8514-891244e68b71",
     "showTitle": false,
     "tableResultSettingsMap": {},
     "title": ""
    }
   },
   "outputs": [],
   "source": [
    "# File location and type\n",
    "file_location = \"/FileStore/tables/airlines.csv\"\n",
    "file_type = \"csv\"\n",
    "\n",
    "# CSV options\n",
    "infer_schema = \"true\"\n",
    "first_row_is_header = \"true\"\n",
    "delimiter = \",\"\n",
    "\n",
    "# The applied options are for CSV files. For other file types, these will be ignored.\n",
    "df_airlines = spark.read.format(file_type) \\\n",
    "  .option(\"inferSchema\", infer_schema) \\\n",
    "  .option(\"header\", first_row_is_header) \\\n",
    "  .option(\"sep\", delimiter) \\\n",
    "  .load(file_location)\n",
    "\n",
    "temp_table_name = \"airlines\"\n",
    "df_airlines.createOrReplaceTempView(temp_table_name)"
   ]
  },
  {
   "cell_type": "code",
   "execution_count": 0,
   "metadata": {
    "application/vnd.databricks.v1+cell": {
     "cellMetadata": {
      "byteLimit": 2048000,
      "implicitDf": true,
      "rowLimit": 10000
     },
     "inputWidgets": {},
     "nuid": "5d496b60-f71e-488c-ac17-ef942cfed188",
     "showTitle": false,
     "tableResultSettingsMap": {},
     "title": ""
    }
   },
   "outputs": [
    {
     "output_type": "display_data",
     "data": {
      "text/html": [
       "<style scoped>\n",
       "  .table-result-container {\n",
       "    max-height: 300px;\n",
       "    overflow: auto;\n",
       "  }\n",
       "  table, th, td {\n",
       "    border: 1px solid black;\n",
       "    border-collapse: collapse;\n",
       "  }\n",
       "  th, td {\n",
       "    padding: 5px;\n",
       "  }\n",
       "  th {\n",
       "    text-align: left;\n",
       "  }\n",
       "</style><div class='table-result-container'><table class='table-result'><thead style='background-color: white'><tr><th>Origin</th><th>Delay</th></tr></thead><tbody><tr><td>YAK</td><td>-50.0 Earliest departure before departure time</td></tr><tr><td>EGE</td><td>2007.0 Biggest delay</td></tr><tr><td>PHX</td><td>1.0 Smallest delay</td></tr><tr><td>PSG</td><td>1.0 Smallest delay</td></tr><tr><td>SUX</td><td>1.0 Smallest delay</td></tr><tr><td>BUR</td><td>1.0 Smallest delay</td></tr><tr><td>ROW</td><td>1.0 Smallest delay</td></tr><tr><td>DHN</td><td>1.0 Smallest delay</td></tr><tr><td>JAC</td><td>1.0 Smallest delay</td></tr><tr><td>GGG</td><td>1.0 Smallest delay</td></tr><tr><td>SAT</td><td>1.0 Smallest delay</td></tr><tr><td>SBA</td><td>1.0 Smallest delay</td></tr><tr><td>SBN</td><td>1.0 Smallest delay</td></tr><tr><td>MKG</td><td>1.0 Smallest delay</td></tr><tr><td>DLH</td><td>1.0 Smallest delay</td></tr><tr><td>HDN</td><td>1.0 Smallest delay</td></tr><tr><td>RDU</td><td>1.0 Smallest delay</td></tr><tr><td>XNA</td><td>1.0 Smallest delay</td></tr><tr><td>SCK</td><td>1.0 Smallest delay</td></tr><tr><td>SYR</td><td>1.0 Smallest delay</td></tr><tr><td>PHF</td><td>1.0 Smallest delay</td></tr><tr><td>FLL</td><td>1.0 Smallest delay</td></tr><tr><td>BIL</td><td>1.0 Smallest delay</td></tr><tr><td>MSP</td><td>1.0 Smallest delay</td></tr><tr><td>BOI</td><td>1.0 Smallest delay</td></tr><tr><td>STS</td><td>1.0 Smallest delay</td></tr><tr><td>TTN</td><td>1.0 Smallest delay</td></tr><tr><td>CIU</td><td>1.0 Smallest delay</td></tr><tr><td>BHM</td><td>1.0 Smallest delay</td></tr><tr><td>ALB</td><td>1.0 Smallest delay</td></tr><tr><td>PHL</td><td>1.0 Smallest delay</td></tr><tr><td>CMH</td><td>1.0 Smallest delay</td></tr><tr><td>RKS</td><td>1.0 Smallest delay</td></tr><tr><td>TUS</td><td>1.0 Smallest delay</td></tr><tr><td>LAX</td><td>1.0 Smallest delay</td></tr><tr><td>CAE</td><td>1.0 Smallest delay</td></tr><tr><td>BIS</td><td>1.0 Smallest delay</td></tr><tr><td>GSP</td><td>1.0 Smallest delay</td></tr><tr><td>DAL</td><td>1.0 Smallest delay</td></tr><tr><td>PNS</td><td>1.0 Smallest delay</td></tr><tr><td>MSY</td><td>1.0 Smallest delay</td></tr><tr><td>MOB</td><td>1.0 Smallest delay</td></tr><tr><td>BTV</td><td>1.0 Smallest delay</td></tr><tr><td>HRL</td><td>1.0 Smallest delay</td></tr><tr><td>GPT</td><td>1.0 Smallest delay</td></tr><tr><td>MGM</td><td>1.0 Smallest delay</td></tr><tr><td>BDL</td><td>1.0 Smallest delay</td></tr><tr><td>FAT</td><td>1.0 Smallest delay</td></tr><tr><td>MSN</td><td>1.0 Smallest delay</td></tr><tr><td>GNV</td><td>1.0 Smallest delay</td></tr><tr><td>SPI</td><td>1.0 Smallest delay</td></tr><tr><td>MTJ</td><td>1.0 Smallest delay</td></tr><tr><td>SJT</td><td>1.0 Smallest delay</td></tr><tr><td>DAB</td><td>1.0 Smallest delay</td></tr><tr><td>TVC</td><td>1.0 Smallest delay</td></tr><tr><td>MFE</td><td>1.0 Smallest delay</td></tr><tr><td>CWA</td><td>1.0 Smallest delay</td></tr><tr><td>CID</td><td>1.0 Smallest delay</td></tr><tr><td>SNA</td><td>1.0 Smallest delay</td></tr><tr><td>MSO</td><td>1.0 Smallest delay</td></tr><tr><td>ITO</td><td>1.0 Smallest delay</td></tr><tr><td>DRO</td><td>1.0 Smallest delay</td></tr><tr><td>PIT</td><td>1.0 Smallest delay</td></tr><tr><td>PBI</td><td>1.0 Smallest delay</td></tr><tr><td>EVV</td><td>1.0 Smallest delay</td></tr><tr><td>RST</td><td>1.0 Smallest delay</td></tr><tr><td>PVD</td><td>1.0 Smallest delay</td></tr><tr><td>SGF</td><td>1.0 Smallest delay</td></tr><tr><td>JNU</td><td>1.0 Smallest delay</td></tr><tr><td>LFT</td><td>1.0 Smallest delay</td></tr><tr><td>BZN</td><td>1.0 Smallest delay</td></tr><tr><td>MBS</td><td>1.0 Smallest delay</td></tr><tr><td>DFW</td><td>1.0 Smallest delay</td></tr><tr><td>SCE</td><td>1.0 Smallest delay</td></tr><tr><td>MKE</td><td>1.0 Smallest delay</td></tr><tr><td>PIH</td><td>1.0 Smallest delay</td></tr><tr><td>BWI</td><td>1.0 Smallest delay</td></tr><tr><td>HPN</td><td>1.0 Smallest delay</td></tr><tr><td>TYS</td><td>1.0 Smallest delay</td></tr><tr><td>JLN</td><td>1.0 Smallest delay</td></tr><tr><td>CKB</td><td>1.0 Smallest delay</td></tr><tr><td>LIH</td><td>1.0 Smallest delay</td></tr><tr><td>MYR</td><td>1.0 Smallest delay</td></tr><tr><td>SWO</td><td>1.0 Smallest delay</td></tr><tr><td>AUS</td><td>1.0 Smallest delay</td></tr><tr><td>IDA</td><td>1.0 Smallest delay</td></tr><tr><td>MDT</td><td>1.0 Smallest delay</td></tr><tr><td>GRR</td><td>1.0 Smallest delay</td></tr><tr><td>OGG</td><td>1.0 Smallest delay</td></tr><tr><td>AZO</td><td>1.0 Smallest delay</td></tr><tr><td>TUL</td><td>1.0 Smallest delay</td></tr><tr><td>OKC</td><td>1.0 Smallest delay</td></tr><tr><td>ILM</td><td>1.0 Smallest delay</td></tr><tr><td>FAI</td><td>1.0 Smallest delay</td></tr><tr><td>BRO</td><td>1.0 Smallest delay</td></tr><tr><td>BLI</td><td>1.0 Smallest delay</td></tr><tr><td>LSE</td><td>1.0 Smallest delay</td></tr><tr><td>CAK</td><td>1.0 Smallest delay</td></tr><tr><td>MDW</td><td>1.0 Smallest delay</td></tr><tr><td>MLB</td><td>1.0 Smallest delay</td></tr><tr><td>ACV</td><td>1.0 Smallest delay</td></tr><tr><td>LAS</td><td>1.0 Smallest delay</td></tr><tr><td>JAX</td><td>1.0 Smallest delay</td></tr><tr><td>BJI</td><td>1.0 Smallest delay</td></tr><tr><td>ACY</td><td>1.0 Smallest delay</td></tr><tr><td>PSP</td><td>1.0 Smallest delay</td></tr><tr><td>ATL</td><td>1.0 Smallest delay</td></tr><tr><td>LNK</td><td>1.0 Smallest delay</td></tr><tr><td>ORD</td><td>1.0 Smallest delay</td></tr><tr><td>OMA</td><td>1.0 Smallest delay</td></tr><tr><td>EGE</td><td>1.0 Smallest delay</td></tr><tr><td>PWM</td><td>1.0 Smallest delay</td></tr><tr><td>ISP</td><td>1.0 Smallest delay</td></tr><tr><td>OAJ</td><td>1.0 Smallest delay</td></tr><tr><td>HYS</td><td>1.0 Smallest delay</td></tr><tr><td>MIA</td><td>1.0 Smallest delay</td></tr><tr><td>KTN</td><td>1.0 Smallest delay</td></tr><tr><td>GJT</td><td>1.0 Smallest delay</td></tr><tr><td>PSC</td><td>1.0 Smallest delay</td></tr><tr><td>GFK</td><td>1.0 Smallest delay</td></tr><tr><td>CHA</td><td>1.0 Smallest delay</td></tr><tr><td>CMI</td><td>1.0 Smallest delay</td></tr><tr><td>BOS</td><td>1.0 Smallest delay</td></tr><tr><td>FSD</td><td>1.0 Smallest delay</td></tr><tr><td>SAN</td><td>1.0 Smallest delay</td></tr><tr><td>AMA</td><td>1.0 Smallest delay</td></tr><tr><td>EWN</td><td>1.0 Smallest delay</td></tr><tr><td>ORF</td><td>1.0 Smallest delay</td></tr><tr><td>ABR</td><td>1.0 Smallest delay</td></tr><tr><td>SJU</td><td>1.0 Smallest delay</td></tr><tr><td>VLD</td><td>1.0 Smallest delay</td></tr><tr><td>ALO</td><td>1.0 Smallest delay</td></tr><tr><td>JFK</td><td>1.0 Smallest delay</td></tr><tr><td>ISN</td><td>1.0 Smallest delay</td></tr><tr><td>DTW</td><td>1.0 Smallest delay</td></tr><tr><td>IAD</td><td>1.0 Smallest delay</td></tr><tr><td>JAN</td><td>1.0 Smallest delay</td></tr><tr><td>ICT</td><td>1.0 Smallest delay</td></tr><tr><td>RNO</td><td>1.0 Smallest delay</td></tr><tr><td>HIB</td><td>1.0 Smallest delay</td></tr><tr><td>LBB</td><td>1.0 Smallest delay</td></tr><tr><td>MFR</td><td>1.0 Smallest delay</td></tr><tr><td>EWR</td><td>1.0 Smallest delay</td></tr><tr><td>GRI</td><td>1.0 Smallest delay</td></tr><tr><td>BMI</td><td>1.0 Smallest delay</td></tr><tr><td>MHK</td><td>1.0 Smallest delay</td></tr><tr><td>LGA</td><td>1.0 Smallest delay</td></tr><tr><td>AVL</td><td>1.0 Smallest delay</td></tr><tr><td>MHT</td><td>1.0 Smallest delay</td></tr><tr><td>GSO</td><td>1.0 Smallest delay</td></tr><tr><td>VPS</td><td>1.0 Smallest delay</td></tr><tr><td>ELM</td><td>1.0 Smallest delay</td></tr><tr><td>BTR</td><td>1.0 Smallest delay</td></tr><tr><td>LIT</td><td>1.0 Smallest delay</td></tr><tr><td>DSM</td><td>1.0 Smallest delay</td></tr><tr><td>PLN</td><td>1.0 Smallest delay</td></tr><tr><td>KOA</td><td>1.0 Smallest delay</td></tr><tr><td>SAV</td><td>1.0 Smallest delay</td></tr><tr><td>PBG</td><td>1.0 Smallest delay</td></tr><tr><td>SFO</td><td>1.0 Smallest delay</td></tr><tr><td>ABE</td><td>1.0 Smallest delay</td></tr><tr><td>JMS</td><td>1.0 Smallest delay</td></tr><tr><td>BUF</td><td>1.0 Smallest delay</td></tr><tr><td>ANC</td><td>1.0 Smallest delay</td></tr><tr><td>BQN</td><td>1.0 Smallest delay</td></tr><tr><td>LEX</td><td>1.0 Smallest delay</td></tr><tr><td>CRP</td><td>1.0 Smallest delay</td></tr><tr><td>RAP</td><td>1.0 Smallest delay</td></tr><tr><td>GRB</td><td>1.0 Smallest delay</td></tr><tr><td>TXK</td><td>1.0 Smallest delay</td></tr><tr><td>BQK</td><td>1.0 Smallest delay</td></tr><tr><td>LGB</td><td>1.0 Smallest delay</td></tr><tr><td>CVG</td><td>1.0 Smallest delay</td></tr><tr><td>FAY</td><td>1.0 Smallest delay</td></tr><tr><td>ATW</td><td>1.0 Smallest delay</td></tr><tr><td>TPA</td><td>1.0 Smallest delay</td></tr><tr><td>SHV</td><td>1.0 Smallest delay</td></tr><tr><td>COD</td><td>1.0 Smallest delay</td></tr><tr><td>COU</td><td>1.0 Smallest delay</td></tr><tr><td>OGD</td><td>1.0 Smallest delay</td></tr><tr><td>OTZ</td><td>1.0 Smallest delay</td></tr><tr><td>GRK</td><td>1.0 Smallest delay</td></tr><tr><td>PDX</td><td>1.0 Smallest delay</td></tr><tr><td>SDF</td><td>1.0 Smallest delay</td></tr><tr><td>DCA</td><td>1.0 Smallest delay</td></tr><tr><td>STL</td><td>1.0 Smallest delay</td></tr><tr><td>CHO</td><td>1.0 Smallest delay</td></tr><tr><td>SRQ</td><td>1.0 Smallest delay</td></tr><tr><td>GUC</td><td>1.0 Smallest delay</td></tr><tr><td>CLE</td><td>1.0 Smallest delay</td></tr><tr><td>SGU</td><td>1.0 Smallest delay</td></tr><tr><td>ABI</td><td>1.0 Smallest delay</td></tr><tr><td>CLL</td><td>1.0 Smallest delay</td></tr><tr><td>HOU</td><td>1.0 Smallest delay</td></tr><tr><td>ECP</td><td>1.0 Smallest delay</td></tr><tr><td>SAF</td><td>1.0 Smallest delay</td></tr><tr><td>GEG</td><td>1.0 Smallest delay</td></tr><tr><td>CRW</td><td>1.0 Smallest delay</td></tr><tr><td>DAY</td><td>1.0 Smallest delay</td></tr><tr><td>MCI</td><td>1.0 Smallest delay</td></tr><tr><td>IAH</td><td>1.0 Smallest delay</td></tr><tr><td>TYR</td><td>1.0 Smallest delay</td></tr><tr><td>ABY</td><td>1.0 Smallest delay</td></tr><tr><td>PIB</td><td>1.0 Smallest delay</td></tr><tr><td>COS</td><td>1.0 Smallest delay</td></tr><tr><td>HLN</td><td>1.0 Smallest delay</td></tr><tr><td>IND</td><td>1.0 Smallest delay</td></tr><tr><td>BNA</td><td>1.0 Smallest delay</td></tr><tr><td>FCA</td><td>1.0 Smallest delay</td></tr><tr><td>GTR</td><td>1.0 Smallest delay</td></tr><tr><td>TLH</td><td>1.0 Smallest delay</td></tr><tr><td>PIA</td><td>1.0 Smallest delay</td></tr><tr><td>MEI</td><td>1.0 Smallest delay</td></tr><tr><td>AVP</td><td>1.0 Smallest delay</td></tr><tr><td>MMH</td><td>1.0 Smallest delay</td></tr><tr><td>SJC</td><td>1.0 Smallest delay</td></tr><tr><td>YUM</td><td>1.0 Smallest delay</td></tr><tr><td>MRY</td><td>1.0 Smallest delay</td></tr><tr><td>FWA</td><td>1.0 Smallest delay</td></tr><tr><td>CGI</td><td>1.0 Smallest delay</td></tr><tr><td>IFP</td><td>1.0 Smallest delay</td></tr><tr><td>CLT</td><td>1.0 Smallest delay</td></tr><tr><td>ABQ</td><td>1.0 Smallest delay</td></tr><tr><td>EYW</td><td>1.0 Smallest delay</td></tr><tr><td>ASE</td><td>1.0 Smallest delay</td></tr><tr><td>ROA</td><td>1.0 Smallest delay</td></tr><tr><td>CDC</td><td>1.0 Smallest delay</td></tr><tr><td>ROC</td><td>1.0 Smallest delay</td></tr><tr><td>ONT</td><td>1.0 Smallest delay</td></tr><tr><td>HSV</td><td>1.0 Smallest delay</td></tr><tr><td>RIC</td><td>1.0 Smallest delay</td></tr><tr><td>MEM</td><td>1.0 Smallest delay</td></tr><tr><td>PGD</td><td>1.0 Smallest delay</td></tr><tr><td>MLU</td><td>1.0 Smallest delay</td></tr><tr><td>TRI</td><td>1.0 Smallest delay</td></tr><tr><td>SBP</td><td>1.0 Smallest delay</td></tr><tr><td>MOT</td><td>1.0 Smallest delay</td></tr><tr><td>SLC</td><td>1.0 Smallest delay</td></tr><tr><td>ELP</td><td>1.0 Smallest delay</td></tr><tr><td>FNT</td><td>1.0 Smallest delay</td></tr><tr><td>FAR</td><td>1.0 Smallest delay</td></tr><tr><td>MLI</td><td>1.0 Smallest delay</td></tr><tr><td>OAK</td><td>1.0 Smallest delay</td></tr><tr><td>AGS</td><td>1.0 Smallest delay</td></tr><tr><td>MCO</td><td>1.0 Smallest delay</td></tr><tr><td>RDM</td><td>1.0 Smallest delay</td></tr><tr><td>RSW</td><td>1.0 Smallest delay</td></tr><tr><td>AEX</td><td>1.0 Smallest delay</td></tr><tr><td>DEN</td><td>1.0 Smallest delay</td></tr><tr><td>SEA</td><td>1.0 Smallest delay</td></tr><tr><td>HNL</td><td>1.0 Smallest delay</td></tr><tr><td>SMF</td><td>1.0 Smallest delay</td></tr><tr><td>CHS</td><td>1.0 Smallest delay</td></tr><tr><td>LBE</td><td>1.0 Smallest delay</td></tr><tr><td>MAF</td><td>1.0 Smallest delay</td></tr><tr><td>EUG</td><td>1.0 Smallest delay</td></tr><tr><td>ACT</td><td>1.0 Smallest delay</td></tr></tbody></table></div>"
      ]
     },
     "metadata": {
      "application/vnd.databricks.v1+output": {
       "addedWidgets": {},
       "aggData": [],
       "aggError": "",
       "aggOverflow": false,
       "aggSchema": [],
       "aggSeriesLimitReached": false,
       "aggType": "",
       "arguments": {},
       "columnCustomDisplayInfos": {},
       "data": [
        [
         "YAK",
         "-50.0 Earliest departure before departure time"
        ],
        [
         "EGE",
         "2007.0 Biggest delay"
        ],
        [
         "PHX",
         "1.0 Smallest delay"
        ],
        [
         "PSG",
         "1.0 Smallest delay"
        ],
        [
         "SUX",
         "1.0 Smallest delay"
        ],
        [
         "BUR",
         "1.0 Smallest delay"
        ],
        [
         "ROW",
         "1.0 Smallest delay"
        ],
        [
         "DHN",
         "1.0 Smallest delay"
        ],
        [
         "JAC",
         "1.0 Smallest delay"
        ],
        [
         "GGG",
         "1.0 Smallest delay"
        ],
        [
         "SAT",
         "1.0 Smallest delay"
        ],
        [
         "SBA",
         "1.0 Smallest delay"
        ],
        [
         "SBN",
         "1.0 Smallest delay"
        ],
        [
         "MKG",
         "1.0 Smallest delay"
        ],
        [
         "DLH",
         "1.0 Smallest delay"
        ],
        [
         "HDN",
         "1.0 Smallest delay"
        ],
        [
         "RDU",
         "1.0 Smallest delay"
        ],
        [
         "XNA",
         "1.0 Smallest delay"
        ],
        [
         "SCK",
         "1.0 Smallest delay"
        ],
        [
         "SYR",
         "1.0 Smallest delay"
        ],
        [
         "PHF",
         "1.0 Smallest delay"
        ],
        [
         "FLL",
         "1.0 Smallest delay"
        ],
        [
         "BIL",
         "1.0 Smallest delay"
        ],
        [
         "MSP",
         "1.0 Smallest delay"
        ],
        [
         "BOI",
         "1.0 Smallest delay"
        ],
        [
         "STS",
         "1.0 Smallest delay"
        ],
        [
         "TTN",
         "1.0 Smallest delay"
        ],
        [
         "CIU",
         "1.0 Smallest delay"
        ],
        [
         "BHM",
         "1.0 Smallest delay"
        ],
        [
         "ALB",
         "1.0 Smallest delay"
        ],
        [
         "PHL",
         "1.0 Smallest delay"
        ],
        [
         "CMH",
         "1.0 Smallest delay"
        ],
        [
         "RKS",
         "1.0 Smallest delay"
        ],
        [
         "TUS",
         "1.0 Smallest delay"
        ],
        [
         "LAX",
         "1.0 Smallest delay"
        ],
        [
         "CAE",
         "1.0 Smallest delay"
        ],
        [
         "BIS",
         "1.0 Smallest delay"
        ],
        [
         "GSP",
         "1.0 Smallest delay"
        ],
        [
         "DAL",
         "1.0 Smallest delay"
        ],
        [
         "PNS",
         "1.0 Smallest delay"
        ],
        [
         "MSY",
         "1.0 Smallest delay"
        ],
        [
         "MOB",
         "1.0 Smallest delay"
        ],
        [
         "BTV",
         "1.0 Smallest delay"
        ],
        [
         "HRL",
         "1.0 Smallest delay"
        ],
        [
         "GPT",
         "1.0 Smallest delay"
        ],
        [
         "MGM",
         "1.0 Smallest delay"
        ],
        [
         "BDL",
         "1.0 Smallest delay"
        ],
        [
         "FAT",
         "1.0 Smallest delay"
        ],
        [
         "MSN",
         "1.0 Smallest delay"
        ],
        [
         "GNV",
         "1.0 Smallest delay"
        ],
        [
         "SPI",
         "1.0 Smallest delay"
        ],
        [
         "MTJ",
         "1.0 Smallest delay"
        ],
        [
         "SJT",
         "1.0 Smallest delay"
        ],
        [
         "DAB",
         "1.0 Smallest delay"
        ],
        [
         "TVC",
         "1.0 Smallest delay"
        ],
        [
         "MFE",
         "1.0 Smallest delay"
        ],
        [
         "CWA",
         "1.0 Smallest delay"
        ],
        [
         "CID",
         "1.0 Smallest delay"
        ],
        [
         "SNA",
         "1.0 Smallest delay"
        ],
        [
         "MSO",
         "1.0 Smallest delay"
        ],
        [
         "ITO",
         "1.0 Smallest delay"
        ],
        [
         "DRO",
         "1.0 Smallest delay"
        ],
        [
         "PIT",
         "1.0 Smallest delay"
        ],
        [
         "PBI",
         "1.0 Smallest delay"
        ],
        [
         "EVV",
         "1.0 Smallest delay"
        ],
        [
         "RST",
         "1.0 Smallest delay"
        ],
        [
         "PVD",
         "1.0 Smallest delay"
        ],
        [
         "SGF",
         "1.0 Smallest delay"
        ],
        [
         "JNU",
         "1.0 Smallest delay"
        ],
        [
         "LFT",
         "1.0 Smallest delay"
        ],
        [
         "BZN",
         "1.0 Smallest delay"
        ],
        [
         "MBS",
         "1.0 Smallest delay"
        ],
        [
         "DFW",
         "1.0 Smallest delay"
        ],
        [
         "SCE",
         "1.0 Smallest delay"
        ],
        [
         "MKE",
         "1.0 Smallest delay"
        ],
        [
         "PIH",
         "1.0 Smallest delay"
        ],
        [
         "BWI",
         "1.0 Smallest delay"
        ],
        [
         "HPN",
         "1.0 Smallest delay"
        ],
        [
         "TYS",
         "1.0 Smallest delay"
        ],
        [
         "JLN",
         "1.0 Smallest delay"
        ],
        [
         "CKB",
         "1.0 Smallest delay"
        ],
        [
         "LIH",
         "1.0 Smallest delay"
        ],
        [
         "MYR",
         "1.0 Smallest delay"
        ],
        [
         "SWO",
         "1.0 Smallest delay"
        ],
        [
         "AUS",
         "1.0 Smallest delay"
        ],
        [
         "IDA",
         "1.0 Smallest delay"
        ],
        [
         "MDT",
         "1.0 Smallest delay"
        ],
        [
         "GRR",
         "1.0 Smallest delay"
        ],
        [
         "OGG",
         "1.0 Smallest delay"
        ],
        [
         "AZO",
         "1.0 Smallest delay"
        ],
        [
         "TUL",
         "1.0 Smallest delay"
        ],
        [
         "OKC",
         "1.0 Smallest delay"
        ],
        [
         "ILM",
         "1.0 Smallest delay"
        ],
        [
         "FAI",
         "1.0 Smallest delay"
        ],
        [
         "BRO",
         "1.0 Smallest delay"
        ],
        [
         "BLI",
         "1.0 Smallest delay"
        ],
        [
         "LSE",
         "1.0 Smallest delay"
        ],
        [
         "CAK",
         "1.0 Smallest delay"
        ],
        [
         "MDW",
         "1.0 Smallest delay"
        ],
        [
         "MLB",
         "1.0 Smallest delay"
        ],
        [
         "ACV",
         "1.0 Smallest delay"
        ],
        [
         "LAS",
         "1.0 Smallest delay"
        ],
        [
         "JAX",
         "1.0 Smallest delay"
        ],
        [
         "BJI",
         "1.0 Smallest delay"
        ],
        [
         "ACY",
         "1.0 Smallest delay"
        ],
        [
         "PSP",
         "1.0 Smallest delay"
        ],
        [
         "ATL",
         "1.0 Smallest delay"
        ],
        [
         "LNK",
         "1.0 Smallest delay"
        ],
        [
         "ORD",
         "1.0 Smallest delay"
        ],
        [
         "OMA",
         "1.0 Smallest delay"
        ],
        [
         "EGE",
         "1.0 Smallest delay"
        ],
        [
         "PWM",
         "1.0 Smallest delay"
        ],
        [
         "ISP",
         "1.0 Smallest delay"
        ],
        [
         "OAJ",
         "1.0 Smallest delay"
        ],
        [
         "HYS",
         "1.0 Smallest delay"
        ],
        [
         "MIA",
         "1.0 Smallest delay"
        ],
        [
         "KTN",
         "1.0 Smallest delay"
        ],
        [
         "GJT",
         "1.0 Smallest delay"
        ],
        [
         "PSC",
         "1.0 Smallest delay"
        ],
        [
         "GFK",
         "1.0 Smallest delay"
        ],
        [
         "CHA",
         "1.0 Smallest delay"
        ],
        [
         "CMI",
         "1.0 Smallest delay"
        ],
        [
         "BOS",
         "1.0 Smallest delay"
        ],
        [
         "FSD",
         "1.0 Smallest delay"
        ],
        [
         "SAN",
         "1.0 Smallest delay"
        ],
        [
         "AMA",
         "1.0 Smallest delay"
        ],
        [
         "EWN",
         "1.0 Smallest delay"
        ],
        [
         "ORF",
         "1.0 Smallest delay"
        ],
        [
         "ABR",
         "1.0 Smallest delay"
        ],
        [
         "SJU",
         "1.0 Smallest delay"
        ],
        [
         "VLD",
         "1.0 Smallest delay"
        ],
        [
         "ALO",
         "1.0 Smallest delay"
        ],
        [
         "JFK",
         "1.0 Smallest delay"
        ],
        [
         "ISN",
         "1.0 Smallest delay"
        ],
        [
         "DTW",
         "1.0 Smallest delay"
        ],
        [
         "IAD",
         "1.0 Smallest delay"
        ],
        [
         "JAN",
         "1.0 Smallest delay"
        ],
        [
         "ICT",
         "1.0 Smallest delay"
        ],
        [
         "RNO",
         "1.0 Smallest delay"
        ],
        [
         "HIB",
         "1.0 Smallest delay"
        ],
        [
         "LBB",
         "1.0 Smallest delay"
        ],
        [
         "MFR",
         "1.0 Smallest delay"
        ],
        [
         "EWR",
         "1.0 Smallest delay"
        ],
        [
         "GRI",
         "1.0 Smallest delay"
        ],
        [
         "BMI",
         "1.0 Smallest delay"
        ],
        [
         "MHK",
         "1.0 Smallest delay"
        ],
        [
         "LGA",
         "1.0 Smallest delay"
        ],
        [
         "AVL",
         "1.0 Smallest delay"
        ],
        [
         "MHT",
         "1.0 Smallest delay"
        ],
        [
         "GSO",
         "1.0 Smallest delay"
        ],
        [
         "VPS",
         "1.0 Smallest delay"
        ],
        [
         "ELM",
         "1.0 Smallest delay"
        ],
        [
         "BTR",
         "1.0 Smallest delay"
        ],
        [
         "LIT",
         "1.0 Smallest delay"
        ],
        [
         "DSM",
         "1.0 Smallest delay"
        ],
        [
         "PLN",
         "1.0 Smallest delay"
        ],
        [
         "KOA",
         "1.0 Smallest delay"
        ],
        [
         "SAV",
         "1.0 Smallest delay"
        ],
        [
         "PBG",
         "1.0 Smallest delay"
        ],
        [
         "SFO",
         "1.0 Smallest delay"
        ],
        [
         "ABE",
         "1.0 Smallest delay"
        ],
        [
         "JMS",
         "1.0 Smallest delay"
        ],
        [
         "BUF",
         "1.0 Smallest delay"
        ],
        [
         "ANC",
         "1.0 Smallest delay"
        ],
        [
         "BQN",
         "1.0 Smallest delay"
        ],
        [
         "LEX",
         "1.0 Smallest delay"
        ],
        [
         "CRP",
         "1.0 Smallest delay"
        ],
        [
         "RAP",
         "1.0 Smallest delay"
        ],
        [
         "GRB",
         "1.0 Smallest delay"
        ],
        [
         "TXK",
         "1.0 Smallest delay"
        ],
        [
         "BQK",
         "1.0 Smallest delay"
        ],
        [
         "LGB",
         "1.0 Smallest delay"
        ],
        [
         "CVG",
         "1.0 Smallest delay"
        ],
        [
         "FAY",
         "1.0 Smallest delay"
        ],
        [
         "ATW",
         "1.0 Smallest delay"
        ],
        [
         "TPA",
         "1.0 Smallest delay"
        ],
        [
         "SHV",
         "1.0 Smallest delay"
        ],
        [
         "COD",
         "1.0 Smallest delay"
        ],
        [
         "COU",
         "1.0 Smallest delay"
        ],
        [
         "OGD",
         "1.0 Smallest delay"
        ],
        [
         "OTZ",
         "1.0 Smallest delay"
        ],
        [
         "GRK",
         "1.0 Smallest delay"
        ],
        [
         "PDX",
         "1.0 Smallest delay"
        ],
        [
         "SDF",
         "1.0 Smallest delay"
        ],
        [
         "DCA",
         "1.0 Smallest delay"
        ],
        [
         "STL",
         "1.0 Smallest delay"
        ],
        [
         "CHO",
         "1.0 Smallest delay"
        ],
        [
         "SRQ",
         "1.0 Smallest delay"
        ],
        [
         "GUC",
         "1.0 Smallest delay"
        ],
        [
         "CLE",
         "1.0 Smallest delay"
        ],
        [
         "SGU",
         "1.0 Smallest delay"
        ],
        [
         "ABI",
         "1.0 Smallest delay"
        ],
        [
         "CLL",
         "1.0 Smallest delay"
        ],
        [
         "HOU",
         "1.0 Smallest delay"
        ],
        [
         "ECP",
         "1.0 Smallest delay"
        ],
        [
         "SAF",
         "1.0 Smallest delay"
        ],
        [
         "GEG",
         "1.0 Smallest delay"
        ],
        [
         "CRW",
         "1.0 Smallest delay"
        ],
        [
         "DAY",
         "1.0 Smallest delay"
        ],
        [
         "MCI",
         "1.0 Smallest delay"
        ],
        [
         "IAH",
         "1.0 Smallest delay"
        ],
        [
         "TYR",
         "1.0 Smallest delay"
        ],
        [
         "ABY",
         "1.0 Smallest delay"
        ],
        [
         "PIB",
         "1.0 Smallest delay"
        ],
        [
         "COS",
         "1.0 Smallest delay"
        ],
        [
         "HLN",
         "1.0 Smallest delay"
        ],
        [
         "IND",
         "1.0 Smallest delay"
        ],
        [
         "BNA",
         "1.0 Smallest delay"
        ],
        [
         "FCA",
         "1.0 Smallest delay"
        ],
        [
         "GTR",
         "1.0 Smallest delay"
        ],
        [
         "TLH",
         "1.0 Smallest delay"
        ],
        [
         "PIA",
         "1.0 Smallest delay"
        ],
        [
         "MEI",
         "1.0 Smallest delay"
        ],
        [
         "AVP",
         "1.0 Smallest delay"
        ],
        [
         "MMH",
         "1.0 Smallest delay"
        ],
        [
         "SJC",
         "1.0 Smallest delay"
        ],
        [
         "YUM",
         "1.0 Smallest delay"
        ],
        [
         "MRY",
         "1.0 Smallest delay"
        ],
        [
         "FWA",
         "1.0 Smallest delay"
        ],
        [
         "CGI",
         "1.0 Smallest delay"
        ],
        [
         "IFP",
         "1.0 Smallest delay"
        ],
        [
         "CLT",
         "1.0 Smallest delay"
        ],
        [
         "ABQ",
         "1.0 Smallest delay"
        ],
        [
         "EYW",
         "1.0 Smallest delay"
        ],
        [
         "ASE",
         "1.0 Smallest delay"
        ],
        [
         "ROA",
         "1.0 Smallest delay"
        ],
        [
         "CDC",
         "1.0 Smallest delay"
        ],
        [
         "ROC",
         "1.0 Smallest delay"
        ],
        [
         "ONT",
         "1.0 Smallest delay"
        ],
        [
         "HSV",
         "1.0 Smallest delay"
        ],
        [
         "RIC",
         "1.0 Smallest delay"
        ],
        [
         "MEM",
         "1.0 Smallest delay"
        ],
        [
         "PGD",
         "1.0 Smallest delay"
        ],
        [
         "MLU",
         "1.0 Smallest delay"
        ],
        [
         "TRI",
         "1.0 Smallest delay"
        ],
        [
         "SBP",
         "1.0 Smallest delay"
        ],
        [
         "MOT",
         "1.0 Smallest delay"
        ],
        [
         "SLC",
         "1.0 Smallest delay"
        ],
        [
         "ELP",
         "1.0 Smallest delay"
        ],
        [
         "FNT",
         "1.0 Smallest delay"
        ],
        [
         "FAR",
         "1.0 Smallest delay"
        ],
        [
         "MLI",
         "1.0 Smallest delay"
        ],
        [
         "OAK",
         "1.0 Smallest delay"
        ],
        [
         "AGS",
         "1.0 Smallest delay"
        ],
        [
         "MCO",
         "1.0 Smallest delay"
        ],
        [
         "RDM",
         "1.0 Smallest delay"
        ],
        [
         "RSW",
         "1.0 Smallest delay"
        ],
        [
         "AEX",
         "1.0 Smallest delay"
        ],
        [
         "DEN",
         "1.0 Smallest delay"
        ],
        [
         "SEA",
         "1.0 Smallest delay"
        ],
        [
         "HNL",
         "1.0 Smallest delay"
        ],
        [
         "SMF",
         "1.0 Smallest delay"
        ],
        [
         "CHS",
         "1.0 Smallest delay"
        ],
        [
         "LBE",
         "1.0 Smallest delay"
        ],
        [
         "MAF",
         "1.0 Smallest delay"
        ],
        [
         "EUG",
         "1.0 Smallest delay"
        ],
        [
         "ACT",
         "1.0 Smallest delay"
        ]
       ],
       "datasetInfos": [],
       "dbfsResultPath": null,
       "isJsonSchema": true,
       "metadata": {},
       "overflow": false,
       "plotOptions": {
        "customPlotOptions": {},
        "displayType": "table",
        "pivotAggregation": null,
        "pivotColumns": null,
        "xColumns": null,
        "yColumns": null
       },
       "removedWidgets": [],
       "schema": [
        {
         "metadata": "{}",
         "name": "Origin",
         "type": "\"string\""
        },
        {
         "metadata": "{}",
         "name": "Delay",
         "type": "\"string\""
        }
       ],
       "type": "table"
      }
     },
     "output_type": "display_data"
    }
   ],
   "source": [
    "%sql\n",
    "(SELECT Origin, DepDelay ||' '|| IF(DepDelay = (SELECT MIN(DepDelay) FROM `flights_csv`), 'Earliest departure before departure time', '-') as Delay \n",
    " FROM `flights_csv`\n",
    " WHERE DepDelay = (SELECT MIN(DepDelay) FROM `flights_csv`))\n",
    "union\n",
    "(SELECT Origin, DepDelay ||' '|| IF(DepDelay = (SELECT MAX(DepDelay) FROM `flights_csv`), 'Biggest delay', '-') as Delay\n",
    " FROM `flights_csv`\n",
    " WHERE DepDelay = (SELECT MAX(DepDelay) FROM `flights_csv`))\n",
    "union\n",
    "(SELECT Origin, DepDelay ||' '|| IF(DepDelay > 0, 'Smallest delay', '-') as Delay\n",
    " FROM `flights_csv`\n",
    " WHERE DepDelay = (SELECT MIN(DepDelay) FROM `flights_csv` where DepDelay > 0));\n"
   ]
  },
  {
   "cell_type": "code",
   "execution_count": 0,
   "metadata": {
    "application/vnd.databricks.v1+cell": {
     "cellMetadata": {
      "byteLimit": 2048000,
      "implicitDf": true,
      "rowLimit": 10000
     },
     "inputWidgets": {},
     "nuid": "130c395f-77c3-4cd4-a391-56f0d828900d",
     "showTitle": false,
     "tableResultSettingsMap": {},
     "title": ""
    }
   },
   "outputs": [
    {
     "output_type": "display_data",
     "data": {
      "text/html": [
       "<style scoped>\n",
       "  .table-result-container {\n",
       "    max-height: 300px;\n",
       "    overflow: auto;\n",
       "  }\n",
       "  table, th, td {\n",
       "    border: 1px solid black;\n",
       "    border-collapse: collapse;\n",
       "  }\n",
       "  th, td {\n",
       "    padding: 5px;\n",
       "  }\n",
       "  th {\n",
       "    text-align: left;\n",
       "  }\n",
       "</style><div class='table-result-container'><table class='table-result'><thead style='background-color: white'><tr><th>STATE</th><th>Number_of_airoports</th></tr></thead><tbody><tr><td>TX</td><td>24</td></tr><tr><td>CA</td><td>22</td></tr><tr><td>AK</td><td>19</td></tr><tr><td>FL</td><td>17</td></tr><tr><td>MI</td><td>15</td></tr><tr><td>NY</td><td>14</td></tr><tr><td>CO</td><td>10</td></tr><tr><td>MN</td><td>8</td></tr><tr><td>WI</td><td>8</td></tr><tr><td>MT</td><td>8</td></tr><tr><td>NC</td><td>8</td></tr><tr><td>ND</td><td>8</td></tr><tr><td>PA</td><td>8</td></tr><tr><td>LA</td><td>7</td></tr><tr><td>VA</td><td>7</td></tr><tr><td>IL</td><td>7</td></tr><tr><td>GA</td><td>7</td></tr><tr><td>WY</td><td>6</td></tr><tr><td>ID</td><td>6</td></tr><tr><td>OR</td><td>5</td></tr><tr><td>MO</td><td>5</td></tr><tr><td>MS</td><td>5</td></tr><tr><td>AL</td><td>5</td></tr><tr><td>OH</td><td>5</td></tr><tr><td>TN</td><td>5</td></tr><tr><td>IA</td><td>5</td></tr><tr><td>MA</td><td>5</td></tr><tr><td>UT</td><td>5</td></tr><tr><td>HI</td><td>5</td></tr><tr><td>SC</td><td>4</td></tr><tr><td>AZ</td><td>4</td></tr><tr><td>KY</td><td>4</td></tr><tr><td>WA</td><td>4</td></tr><tr><td>IN</td><td>4</td></tr><tr><td>NM</td><td>4</td></tr><tr><td>KS</td><td>4</td></tr><tr><td>AR</td><td>4</td></tr><tr><td>NJ</td><td>3</td></tr><tr><td>NV</td><td>3</td></tr><tr><td>NE</td><td>3</td></tr><tr><td>SD</td><td>3</td></tr><tr><td>OK</td><td>3</td></tr><tr><td>PR</td><td>3</td></tr><tr><td>VI</td><td>2</td></tr><tr><td>ME</td><td>2</td></tr><tr><td>RI</td><td>1</td></tr><tr><td>NH</td><td>1</td></tr><tr><td>CT</td><td>1</td></tr><tr><td>VT</td><td>1</td></tr><tr><td>MD</td><td>1</td></tr><tr><td>DE</td><td>1</td></tr><tr><td>GU</td><td>1</td></tr><tr><td>WV</td><td>1</td></tr><tr><td>AS</td><td>1</td></tr></tbody></table></div>"
      ]
     },
     "metadata": {
      "application/vnd.databricks.v1+output": {
       "addedWidgets": {},
       "aggData": [],
       "aggError": "",
       "aggOverflow": false,
       "aggSchema": [],
       "aggSeriesLimitReached": false,
       "aggType": "",
       "arguments": {},
       "columnCustomDisplayInfos": {},
       "data": [
        [
         "TX",
         24
        ],
        [
         "CA",
         22
        ],
        [
         "AK",
         19
        ],
        [
         "FL",
         17
        ],
        [
         "MI",
         15
        ],
        [
         "NY",
         14
        ],
        [
         "CO",
         10
        ],
        [
         "MN",
         8
        ],
        [
         "WI",
         8
        ],
        [
         "MT",
         8
        ],
        [
         "NC",
         8
        ],
        [
         "ND",
         8
        ],
        [
         "PA",
         8
        ],
        [
         "LA",
         7
        ],
        [
         "VA",
         7
        ],
        [
         "IL",
         7
        ],
        [
         "GA",
         7
        ],
        [
         "WY",
         6
        ],
        [
         "ID",
         6
        ],
        [
         "OR",
         5
        ],
        [
         "MO",
         5
        ],
        [
         "MS",
         5
        ],
        [
         "AL",
         5
        ],
        [
         "OH",
         5
        ],
        [
         "TN",
         5
        ],
        [
         "IA",
         5
        ],
        [
         "MA",
         5
        ],
        [
         "UT",
         5
        ],
        [
         "HI",
         5
        ],
        [
         "SC",
         4
        ],
        [
         "AZ",
         4
        ],
        [
         "KY",
         4
        ],
        [
         "WA",
         4
        ],
        [
         "IN",
         4
        ],
        [
         "NM",
         4
        ],
        [
         "KS",
         4
        ],
        [
         "AR",
         4
        ],
        [
         "NJ",
         3
        ],
        [
         "NV",
         3
        ],
        [
         "NE",
         3
        ],
        [
         "SD",
         3
        ],
        [
         "OK",
         3
        ],
        [
         "PR",
         3
        ],
        [
         "VI",
         2
        ],
        [
         "ME",
         2
        ],
        [
         "RI",
         1
        ],
        [
         "NH",
         1
        ],
        [
         "CT",
         1
        ],
        [
         "VT",
         1
        ],
        [
         "MD",
         1
        ],
        [
         "DE",
         1
        ],
        [
         "GU",
         1
        ],
        [
         "WV",
         1
        ],
        [
         "AS",
         1
        ]
       ],
       "datasetInfos": [],
       "dbfsResultPath": null,
       "isJsonSchema": true,
       "metadata": {},
       "overflow": false,
       "plotOptions": {
        "customPlotOptions": {},
        "displayType": "table",
        "pivotAggregation": null,
        "pivotColumns": null,
        "xColumns": null,
        "yColumns": null
       },
       "removedWidgets": [],
       "schema": [
        {
         "metadata": "{}",
         "name": "STATE",
         "type": "\"string\""
        },
        {
         "metadata": "{}",
         "name": "Number_of_airoports",
         "type": "\"long\""
        }
       ],
       "type": "table"
      }
     },
     "output_type": "display_data"
    },
    {
     "output_type": "display_data",
     "data": {
      "text/plain": [
       "Databricks visualization. Run in Databricks to view."
      ]
     },
     "metadata": {
      "application/vnd.databricks.v1.subcommand+json": {
       "baseErrorDetails": null,
       "bindings": {},
       "collapsed": false,
       "command": "%sql\nselect STATE, COUNT(DISTINCT IATA_CODE) as Number_of_airoports\nFROM `airports`\ngroup by STATE\norder by Number_of_airoports DESC",
       "commandTitle": "Visualization 1",
       "commandType": "auto",
       "commandVersion": 0,
       "commentThread": [],
       "commentsVisible": false,
       "contentSha256Hex": null,
       "customPlotOptions": {
        "redashChart": [
         {
          "key": "type",
          "value": "CHOROPLETH"
         },
         {
          "key": "options",
          "value": {
           "clusteringMode": "e",
           "colors": {
            "background": "#ffffff",
            "borders": "#ffffff",
            "max": "#002FB4",
            "min": "#799CFF",
            "noValue": "#dddddd"
           },
           "keyColumn": "STATE",
           "legend": {
            "alignText": "right",
            "position": "bottom-left",
            "visible": true
           },
           "mapType": "usa",
           "noValuePlaceholder": "N/A",
           "popup": {
            "enabled": true,
            "template": "Region: <b>{{ @@name }}</b>\n<br>\nValue: <b>{{ @@value }}</b>"
           },
           "steps": 5,
           "targetField": "usps_abbrev",
           "tooltip": {
            "enabled": true,
            "template": "<b>{{ @@name }}</b>: {{ @@value }}"
           },
           "valueColumn": "Number_of_airoports",
           "valueFormat": "0,0.00"
          }
         }
        ]
       },
       "datasetPreviewNameToCmdIdMap": {},
       "diffDeletes": [],
       "diffInserts": [],
       "displayType": "redashChart",
       "error": null,
       "errorDetails": null,
       "errorSummary": null,
       "errorTraceType": null,
       "finishTime": 0,
       "globalVars": {},
       "guid": "",
       "height": "auto",
       "hideCommandCode": false,
       "hideCommandResult": false,
       "iPythonMetadata": null,
       "inputWidgets": {},
       "isLockedInExamMode": false,
       "latestUser": "a user",
       "latestUserId": null,
       "listResultMetadata": null,
       "metadata": {},
       "nuid": "0719b199-accb-4321-b2dd-b2840b812e6b",
       "origId": 0,
       "parentHierarchy": [],
       "pivotAggregation": null,
       "pivotColumns": null,
       "position": 19.0,
       "resultDbfsErrorMessage": null,
       "resultDbfsStatus": "INLINED_IN_TREE",
       "results": null,
       "showCommandTitle": false,
       "startTime": 0,
       "state": "input",
       "streamStates": {},
       "subcommandOptions": {},
       "submitTime": 0,
       "subtype": "tableResultSubCmd.visualization",
       "tableResultIndex": 0,
       "tableResultSettingsMap": {},
       "useConsistentColors": false,
       "version": "CommandV1",
       "width": "auto",
       "workflows": [],
       "xColumns": null,
       "yColumns": null
      }
     },
     "output_type": "display_data"
    }
   ],
   "source": [
    "%sql\n",
    "select STATE, COUNT(DISTINCT IATA_CODE) as Number_of_airoports\n",
    "FROM `airports`\n",
    "group by STATE\n",
    "order by Number_of_airoports DESC"
   ]
  },
  {
   "cell_type": "code",
   "execution_count": 0,
   "metadata": {
    "application/vnd.databricks.v1+cell": {
     "cellMetadata": {
      "byteLimit": 2048000,
      "implicitDf": true,
      "rowLimit": 10000
     },
     "inputWidgets": {},
     "nuid": "b77422ab-c66a-4036-9811-64cd53e9c92c",
     "showTitle": false,
     "tableResultSettingsMap": {},
     "title": ""
    }
   },
   "outputs": [
    {
     "output_type": "display_data",
     "data": {
      "text/html": [
       "<style scoped>\n",
       "  .table-result-container {\n",
       "    max-height: 300px;\n",
       "    overflow: auto;\n",
       "  }\n",
       "  table, th, td {\n",
       "    border: 1px solid black;\n",
       "    border-collapse: collapse;\n",
       "  }\n",
       "  th, td {\n",
       "    padding: 5px;\n",
       "  }\n",
       "  th {\n",
       "    text-align: left;\n",
       "  }\n",
       "</style><div class='table-result-container'><table class='table-result'><thead style='background-color: white'><tr><th>DATE</th><th>NUM_OF_FLIGHTS</th><th>MAX_ARRIVAL_DELAY</th><th>AVG_ARRIVAL_DELAY</th></tr></thead><tbody><tr><td>2018-01-23</td><td>18282</td><td>1366.0</td><td>9.79</td></tr><tr><td>2018-01-11</td><td>19417</td><td>2023.0</td><td>13.7</td></tr><tr><td>2018-01-18</td><td>19418</td><td>1009.0</td><td>11.54</td></tr><tr><td>2018-01-08</td><td>19287</td><td>1454.0</td><td>20.88</td></tr><tr><td>2018-01-14</td><td>16697</td><td>1123.0</td><td>7.83</td></tr><tr><td>2018-01-05</td><td>19283</td><td>1316.0</td><td>20.33</td></tr><tr><td>2018-01-13</td><td>14725</td><td>1378.0</td><td>11.13</td></tr><tr><td>2018-01-16</td><td>18291</td><td>1076.0</td><td>13.48</td></tr><tr><td>2018-01-12</td><td>19577</td><td>1390.0</td><td>29.37</td></tr><tr><td>2018-01-20</td><td>14862</td><td>1432.0</td><td>5.12</td></tr><tr><td>2018-01-25</td><td>19429</td><td>1015.0</td><td>5.53</td></tr><tr><td>2018-01-29</td><td>19316</td><td>1151.0</td><td>10.03</td></tr><tr><td>2018-01-19</td><td>19534</td><td>1210.0</td><td>6.64</td></tr><tr><td>2018-01-04</td><td>19242</td><td>1486.0</td><td>11.19</td></tr><tr><td>2018-01-02</td><td>19881</td><td>1778.0</td><td>18.08</td></tr><tr><td>2018-01-17</td><td>18819</td><td>1343.0</td><td>31.64</td></tr><tr><td>2018-01-03</td><td>19193</td><td>1717.0</td><td>14.17</td></tr><tr><td>2018-01-21</td><td>18062</td><td>1229.0</td><td>11.04</td></tr><tr><td>2018-01-27</td><td>14864</td><td>1173.0</td><td>4.2</td></tr><tr><td>2018-01-15</td><td>19075</td><td>1380.0</td><td>18.28</td></tr><tr><td>2018-01-22</td><td>19328</td><td>1383.0</td><td>9.41</td></tr><tr><td>2018-01-28</td><td>18055</td><td>1227.0</td><td>6.48</td></tr><tr><td>2018-01-09</td><td>18270</td><td>1537.0</td><td>14.67</td></tr><tr><td>2018-01-06</td><td>15966</td><td>1473.0</td><td>15.79</td></tr><tr><td>2018-01-01</td><td>17914</td><td>1159.0</td><td>21.04</td></tr><tr><td>2018-01-26</td><td>19537</td><td>1296.0</td><td>4.63</td></tr><tr><td>2018-01-24</td><td>18818</td><td>1017.0</td><td>7.2</td></tr><tr><td>2018-01-30</td><td>18284</td><td>1159.0</td><td>8.82</td></tr><tr><td>2018-01-31</td><td>18835</td><td>1301.0</td><td>3.99</td></tr><tr><td>2018-01-07</td><td>19081</td><td>1433.0</td><td>18.53</td></tr><tr><td>2018-01-10</td><td>18789</td><td>947.0</td><td>8.74</td></tr></tbody></table></div>"
      ]
     },
     "metadata": {
      "application/vnd.databricks.v1+output": {
       "addedWidgets": {},
       "aggData": [],
       "aggError": "",
       "aggOverflow": false,
       "aggSchema": [],
       "aggSeriesLimitReached": false,
       "aggType": "",
       "arguments": {},
       "columnCustomDisplayInfos": {},
       "data": [
        [
         "2018-01-23",
         18282,
         1366.0,
         9.79
        ],
        [
         "2018-01-11",
         19417,
         2023.0,
         13.7
        ],
        [
         "2018-01-18",
         19418,
         1009.0,
         11.54
        ],
        [
         "2018-01-08",
         19287,
         1454.0,
         20.88
        ],
        [
         "2018-01-14",
         16697,
         1123.0,
         7.83
        ],
        [
         "2018-01-05",
         19283,
         1316.0,
         20.33
        ],
        [
         "2018-01-13",
         14725,
         1378.0,
         11.13
        ],
        [
         "2018-01-16",
         18291,
         1076.0,
         13.48
        ],
        [
         "2018-01-12",
         19577,
         1390.0,
         29.37
        ],
        [
         "2018-01-20",
         14862,
         1432.0,
         5.12
        ],
        [
         "2018-01-25",
         19429,
         1015.0,
         5.53
        ],
        [
         "2018-01-29",
         19316,
         1151.0,
         10.03
        ],
        [
         "2018-01-19",
         19534,
         1210.0,
         6.64
        ],
        [
         "2018-01-04",
         19242,
         1486.0,
         11.19
        ],
        [
         "2018-01-02",
         19881,
         1778.0,
         18.08
        ],
        [
         "2018-01-17",
         18819,
         1343.0,
         31.64
        ],
        [
         "2018-01-03",
         19193,
         1717.0,
         14.17
        ],
        [
         "2018-01-21",
         18062,
         1229.0,
         11.04
        ],
        [
         "2018-01-27",
         14864,
         1173.0,
         4.2
        ],
        [
         "2018-01-15",
         19075,
         1380.0,
         18.28
        ],
        [
         "2018-01-22",
         19328,
         1383.0,
         9.41
        ],
        [
         "2018-01-28",
         18055,
         1227.0,
         6.48
        ],
        [
         "2018-01-09",
         18270,
         1537.0,
         14.67
        ],
        [
         "2018-01-06",
         15966,
         1473.0,
         15.79
        ],
        [
         "2018-01-01",
         17914,
         1159.0,
         21.04
        ],
        [
         "2018-01-26",
         19537,
         1296.0,
         4.63
        ],
        [
         "2018-01-24",
         18818,
         1017.0,
         7.2
        ],
        [
         "2018-01-30",
         18284,
         1159.0,
         8.82
        ],
        [
         "2018-01-31",
         18835,
         1301.0,
         3.99
        ],
        [
         "2018-01-07",
         19081,
         1433.0,
         18.53
        ],
        [
         "2018-01-10",
         18789,
         947.0,
         8.74
        ]
       ],
       "datasetInfos": [],
       "dbfsResultPath": null,
       "isJsonSchema": true,
       "metadata": {},
       "overflow": false,
       "plotOptions": {
        "customPlotOptions": {},
        "displayType": "table",
        "pivotAggregation": null,
        "pivotColumns": null,
        "xColumns": null,
        "yColumns": null
       },
       "removedWidgets": [],
       "schema": [
        {
         "metadata": "{\"__detected_date_formats\":\"yyyy-M-d\"}",
         "name": "DATE",
         "type": "\"date\""
        },
        {
         "metadata": "{}",
         "name": "NUM_OF_FLIGHTS",
         "type": "\"long\""
        },
        {
         "metadata": "{}",
         "name": "MAX_ARRIVAL_DELAY",
         "type": "\"double\""
        },
        {
         "metadata": "{}",
         "name": "AVG_ARRIVAL_DELAY",
         "type": "\"double\""
        }
       ],
       "type": "table"
      }
     },
     "output_type": "display_data"
    }
   ],
   "source": [
    "%sql\n",
    "select FlightDate AS DATE, COUNT(FlightNum) AS NUM_OF_FLIGHTS, MAX(ArrDelayMinutes) AS MAX_ARRIVAL_DELAY, round(AVG(ArrDelayMinutes), 2) AS AVG_ARRIVAL_DELAY\n",
    "from `flights_csv`\n",
    "group by FlightDate;"
   ]
  },
  {
   "cell_type": "code",
   "execution_count": 0,
   "metadata": {
    "application/vnd.databricks.v1+cell": {
     "cellMetadata": {},
     "inputWidgets": {},
     "nuid": "a6ce5050-d1f4-4cb2-8a37-87a158ffb926",
     "showTitle": false,
     "tableResultSettingsMap": {},
     "title": ""
    }
   },
   "outputs": [],
   "source": [
    "# if it replace CARRIES with DEPARTURE TIME. possible to calculate the number of aircraft completed"
   ]
  },
  {
   "cell_type": "code",
   "execution_count": 0,
   "metadata": {
    "application/vnd.databricks.v1+cell": {
     "cellMetadata": {
      "byteLimit": 2048000,
      "implicitDf": true,
      "rowLimit": 10000
     },
     "inputWidgets": {},
     "nuid": "25b2a59d-dc89-412e-a81e-7ba0252a9ed0",
     "showTitle": false,
     "tableResultSettingsMap": {},
     "title": ""
    }
   },
   "outputs": [
    {
     "output_type": "display_data",
     "data": {
      "text/html": [
       "<style scoped>\n",
       "  .table-result-container {\n",
       "    max-height: 300px;\n",
       "    overflow: auto;\n",
       "  }\n",
       "  table, th, td {\n",
       "    border: 1px solid black;\n",
       "    border-collapse: collapse;\n",
       "  }\n",
       "  th, td {\n",
       "    padding: 5px;\n",
       "  }\n",
       "  th {\n",
       "    text-align: left;\n",
       "  }\n",
       "</style><div class='table-result-container'><table class='table-result'><thead style='background-color: white'><tr><th>AIRLINE</th><th>Number_of_flights_per_Carrier_total</th></tr></thead><tbody><tr><td>Skywest Airlines Inc.</td><td>62207</td></tr><tr><td>American Eagle Airlines Inc.</td><td>22502</td></tr><tr><td>Virgin America</td><td>5824</td></tr><tr><td>United Air Lines Inc.</td><td>45384</td></tr><tr><td>Frontier Airlines Inc.</td><td>9707</td></tr><tr><td>Southwest Airlines Co.</td><td>109676</td></tr><tr><td>JetBlue Airways</td><td>24871</td></tr><tr><td>Hawaiian Airlines Inc.</td><td>6627</td></tr><tr><td>Atlantic Southeast Airlines</td><td>20166</td></tr><tr><td>Alaska Airlines Inc.</td><td>15312</td></tr><tr><td>Delta Air Lines Inc.</td><td>71254</td></tr><tr><td>American Airlines Inc.</td><td>73598</td></tr><tr><td>Spirit Air Lines</td><td>14180</td></tr></tbody></table></div>"
      ]
     },
     "metadata": {
      "application/vnd.databricks.v1+output": {
       "addedWidgets": {},
       "aggData": [],
       "aggError": "",
       "aggOverflow": false,
       "aggSchema": [],
       "aggSeriesLimitReached": false,
       "aggType": "",
       "arguments": {},
       "columnCustomDisplayInfos": {},
       "data": [
        [
         "Skywest Airlines Inc.",
         62207
        ],
        [
         "American Eagle Airlines Inc.",
         22502
        ],
        [
         "Virgin America",
         5824
        ],
        [
         "United Air Lines Inc.",
         45384
        ],
        [
         "Frontier Airlines Inc.",
         9707
        ],
        [
         "Southwest Airlines Co.",
         109676
        ],
        [
         "JetBlue Airways",
         24871
        ],
        [
         "Hawaiian Airlines Inc.",
         6627
        ],
        [
         "Atlantic Southeast Airlines",
         20166
        ],
        [
         "Alaska Airlines Inc.",
         15312
        ],
        [
         "Delta Air Lines Inc.",
         71254
        ],
        [
         "American Airlines Inc.",
         73598
        ],
        [
         "Spirit Air Lines",
         14180
        ]
       ],
       "datasetInfos": [],
       "dbfsResultPath": null,
       "isJsonSchema": true,
       "metadata": {},
       "overflow": false,
       "plotOptions": {
        "customPlotOptions": {},
        "displayType": "table",
        "pivotAggregation": null,
        "pivotColumns": null,
        "xColumns": null,
        "yColumns": null
       },
       "removedWidgets": [],
       "schema": [
        {
         "metadata": "{}",
         "name": "AIRLINE",
         "type": "\"string\""
        },
        {
         "metadata": "{}",
         "name": "Number_of_flights_per_Carrier_total",
         "type": "\"long\""
        }
       ],
       "type": "table"
      }
     },
     "output_type": "display_data"
    },
    {
     "output_type": "display_data",
     "data": {
      "text/plain": [
       "Databricks visualization. Run in Databricks to view."
      ]
     },
     "metadata": {
      "application/vnd.databricks.v1.subcommand+json": {
       "baseErrorDetails": null,
       "bindings": {},
       "collapsed": false,
       "command": "%sql WITH q AS (select AIRLINE, COUNT(Carrier) AS Number_of_flights_per_Carrier\nfrom airlines a join flights f on f.carrier=a.IATA_CODE\nGROUP BY AIRLINE) SELECT `AIRLINE`,SUM(`Number_of_flights_per_Carrier`) `column_cade43271286` FROM q GROUP BY `AIRLINE`",
       "commandTitle": "Visualization 1",
       "commandType": "auto",
       "commandVersion": 0,
       "commentThread": [],
       "commentsVisible": false,
       "contentSha256Hex": null,
       "customPlotOptions": {
        "redashChart": [
         {
          "key": "type",
          "value": "CHART"
         },
         {
          "key": "options",
          "value": {
           "alignYAxesAtZero": true,
           "coefficient": 1,
           "columnConfigurationMap": {
            "x": {
             "column": "AIRLINE",
             "id": "column_cade43271285"
            },
            "y": [
             {
              "column": "Number_of_flights_per_Carrier_total",
              "id": "column_cade43271286",
              "transform": "SUM"
             }
            ]
           },
           "dateTimeFormat": "DD/MM/YYYY HH:mm",
           "direction": {
            "type": "counterclockwise"
           },
           "error_y": {
            "type": "data",
            "visible": true
           },
           "globalSeriesType": "column",
           "isAggregationOn": true,
           "legend": {
            "traceorder": "normal"
           },
           "missingValuesAsZero": true,
           "numberFormat": "0,0[.]00000",
           "percentFormat": "0[.]00%",
           "series": {
            "error_y": {
             "type": "data",
             "visible": true
            },
            "stacking": null
           },
           "seriesOptions": {
            "column_cade43271286": {
             "name": "Number_of_flights_per_Carrier",
             "type": "column",
             "yAxis": 0
            }
           },
           "showDataLabels": false,
           "sizemode": "diameter",
           "sortX": true,
           "sortY": true,
           "swappedAxes": true,
           "textFormat": "",
           "useAggregationsUi": true,
           "valuesOptions": {},
           "version": 2,
           "xAxis": {
            "labels": {
             "enabled": true
            },
            "type": "-"
           },
           "yAxis": [
            {
             "type": "-"
            },
            {
             "opposite": true,
             "type": "-"
            }
           ]
          }
         }
        ]
       },
       "datasetPreviewNameToCmdIdMap": {},
       "diffDeletes": [],
       "diffInserts": [],
       "displayType": "redashChart",
       "error": null,
       "errorDetails": null,
       "errorSummary": null,
       "errorTraceType": null,
       "finishTime": 0,
       "globalVars": {},
       "guid": "",
       "height": "auto",
       "hideCommandCode": false,
       "hideCommandResult": false,
       "iPythonMetadata": null,
       "inputWidgets": {},
       "isLockedInExamMode": false,
       "latestUser": "a user",
       "latestUserId": null,
       "listResultMetadata": null,
       "metadata": {},
       "nuid": "52923500-2bfe-41f5-b319-abe9138a4f52",
       "origId": 0,
       "parentHierarchy": [],
       "pivotAggregation": null,
       "pivotColumns": null,
       "position": 21.0,
       "resultDbfsErrorMessage": null,
       "resultDbfsStatus": "INLINED_IN_TREE",
       "results": null,
       "showCommandTitle": false,
       "startTime": 0,
       "state": "input",
       "streamStates": {},
       "subcommandOptions": {
        "queryPlan": {
         "groups": [
          {
           "column": "AIRLINE",
           "type": "column"
          }
         ],
         "selects": [
          {
           "column": "AIRLINE",
           "type": "column"
          },
          {
           "alias": "column_cade43271286",
           "args": [
            {
             "column": "Number_of_flights_per_Carrier_total",
             "type": "column"
            }
           ],
           "function": "SUM",
           "type": "function"
          }
         ]
        }
       },
       "submitTime": 0,
       "subtype": "tableResultSubCmd.visualization",
       "tableResultIndex": 0,
       "tableResultSettingsMap": {},
       "useConsistentColors": false,
       "version": "CommandV1",
       "width": "auto",
       "workflows": [],
       "xColumns": null,
       "yColumns": null
      }
     },
     "output_type": "display_data"
    }
   ],
   "source": [
    "%sql\n",
    "select AIRLINE, COUNT(Carrier) AS Number_of_flights_per_Carrier_total\n",
    "from airlines a join flights_csv f on f.carrier=a.IATA_CODE\n",
    "GROUP BY AIRLINE"
   ]
  },
  {
   "cell_type": "code",
   "execution_count": 0,
   "metadata": {
    "application/vnd.databricks.v1+cell": {
     "cellMetadata": {
      "byteLimit": 2048000,
      "implicitDf": true,
      "rowLimit": 10000
     },
     "inputWidgets": {},
     "nuid": "331c7ebc-50bb-4528-a8f3-6930d475f330",
     "showTitle": false,
     "tableResultSettingsMap": {},
     "title": ""
    }
   },
   "outputs": [
    {
     "output_type": "display_data",
     "data": {
      "text/html": [
       "<style scoped>\n",
       "  .table-result-container {\n",
       "    max-height: 300px;\n",
       "    overflow: auto;\n",
       "  }\n",
       "  table, th, td {\n",
       "    border: 1px solid black;\n",
       "    border-collapse: collapse;\n",
       "  }\n",
       "  th, td {\n",
       "    padding: 5px;\n",
       "  }\n",
       "  th {\n",
       "    text-align: left;\n",
       "  }\n",
       "</style><div class='table-result-container'><table class='table-result'><thead style='background-color: white'><tr><th>AIRLINE</th><th>Number_of_flights_per_Carrier_completed</th></tr></thead><tbody><tr><td>Skywest Airlines Inc.</td><td>60724</td></tr><tr><td>American Eagle Airlines Inc.</td><td>21670</td></tr><tr><td>Virgin America</td><td>5722</td></tr><tr><td>United Air Lines Inc.</td><td>44494</td></tr><tr><td>Frontier Airlines Inc.</td><td>9527</td></tr><tr><td>Southwest Airlines Co.</td><td>107240</td></tr><tr><td>JetBlue Airways</td><td>23420</td></tr><tr><td>Hawaiian Airlines Inc.</td><td>6617</td></tr><tr><td>Atlantic Southeast Airlines</td><td>19175</td></tr><tr><td>Alaska Airlines Inc.</td><td>15179</td></tr><tr><td>Delta Air Lines Inc.</td><td>69754</td></tr><tr><td>American Airlines Inc.</td><td>72157</td></tr><tr><td>Spirit Air Lines</td><td>13816</td></tr></tbody></table></div>"
      ]
     },
     "metadata": {
      "application/vnd.databricks.v1+output": {
       "addedWidgets": {},
       "aggData": [],
       "aggError": "",
       "aggOverflow": false,
       "aggSchema": [],
       "aggSeriesLimitReached": false,
       "aggType": "",
       "arguments": {},
       "columnCustomDisplayInfos": {},
       "data": [
        [
         "Skywest Airlines Inc.",
         60724
        ],
        [
         "American Eagle Airlines Inc.",
         21670
        ],
        [
         "Virgin America",
         5722
        ],
        [
         "United Air Lines Inc.",
         44494
        ],
        [
         "Frontier Airlines Inc.",
         9527
        ],
        [
         "Southwest Airlines Co.",
         107240
        ],
        [
         "JetBlue Airways",
         23420
        ],
        [
         "Hawaiian Airlines Inc.",
         6617
        ],
        [
         "Atlantic Southeast Airlines",
         19175
        ],
        [
         "Alaska Airlines Inc.",
         15179
        ],
        [
         "Delta Air Lines Inc.",
         69754
        ],
        [
         "American Airlines Inc.",
         72157
        ],
        [
         "Spirit Air Lines",
         13816
        ]
       ],
       "datasetInfos": [],
       "dbfsResultPath": null,
       "isJsonSchema": true,
       "metadata": {},
       "overflow": false,
       "plotOptions": {
        "customPlotOptions": {},
        "displayType": "table",
        "pivotAggregation": null,
        "pivotColumns": null,
        "xColumns": null,
        "yColumns": null
       },
       "removedWidgets": [],
       "schema": [
        {
         "metadata": "{}",
         "name": "AIRLINE",
         "type": "\"string\""
        },
        {
         "metadata": "{}",
         "name": "Number_of_flights_per_Carrier_completed",
         "type": "\"long\""
        }
       ],
       "type": "table"
      }
     },
     "output_type": "display_data"
    },
    {
     "output_type": "display_data",
     "data": {
      "text/plain": [
       "Databricks visualization. Run in Databricks to view."
      ]
     },
     "metadata": {
      "application/vnd.databricks.v1.subcommand+json": {
       "baseErrorDetails": null,
       "bindings": {},
       "collapsed": false,
       "command": "%sql WITH q AS (select AIRLINE, COUNT(DepTime) AS Number_of_flights_per_Carrier_completed\nfrom airlines a join flights_csv f on f.carrier=a.IATA_CODE\nGROUP BY AIRLINE) SELECT `AIRLINE`,SUM(`Number_of_flights_per_Carrier_completed`) `column_4a952dea251` FROM q GROUP BY `AIRLINE`",
       "commandTitle": "Visualization 1",
       "commandType": "auto",
       "commandVersion": 0,
       "commentThread": [],
       "commentsVisible": false,
       "contentSha256Hex": null,
       "customPlotOptions": {
        "redashChart": [
         {
          "key": "type",
          "value": "CHART"
         },
         {
          "key": "options",
          "value": {
           "alignYAxesAtZero": true,
           "coefficient": 1,
           "columnConfigurationMap": {
            "x": {
             "column": "AIRLINE",
             "id": "column_4a952dea250"
            },
            "y": [
             {
              "column": "Number_of_flights_per_Carrier_completed",
              "id": "column_4a952dea251",
              "transform": "SUM"
             }
            ]
           },
           "dateTimeFormat": "DD/MM/YYYY HH:mm",
           "direction": {
            "type": "counterclockwise"
           },
           "error_y": {
            "type": "data",
            "visible": true
           },
           "globalSeriesType": "column",
           "legend": {
            "traceorder": "normal"
           },
           "missingValuesAsZero": true,
           "numberFormat": "0,0[.]00000",
           "percentFormat": "0[.]00%",
           "series": {
            "error_y": {
             "type": "data",
             "visible": true
            },
            "stacking": null
           },
           "seriesOptions": {
            "column_4a952dea251": {
             "name": "Number_of_flights_per_Carrier_completed",
             "yAxis": 0
            }
           },
           "showDataLabels": false,
           "sizemode": "diameter",
           "sortX": true,
           "sortY": true,
           "swappedAxes": true,
           "textFormat": "",
           "useAggregationsUi": true,
           "valuesOptions": {},
           "version": 2,
           "xAxis": {
            "labels": {
             "enabled": true
            },
            "type": "-"
           },
           "yAxis": [
            {
             "type": "-"
            },
            {
             "opposite": true,
             "type": "-"
            }
           ]
          }
         }
        ]
       },
       "datasetPreviewNameToCmdIdMap": {},
       "diffDeletes": [],
       "diffInserts": [],
       "displayType": "redashChart",
       "error": null,
       "errorDetails": null,
       "errorSummary": null,
       "errorTraceType": null,
       "finishTime": 0,
       "globalVars": {},
       "guid": "",
       "height": "auto",
       "hideCommandCode": false,
       "hideCommandResult": false,
       "iPythonMetadata": null,
       "inputWidgets": {},
       "isLockedInExamMode": false,
       "latestUser": "a user",
       "latestUserId": null,
       "listResultMetadata": null,
       "metadata": {},
       "nuid": "8293a598-19a7-45bc-a6a6-609dcf4be926",
       "origId": 0,
       "parentHierarchy": [],
       "pivotAggregation": null,
       "pivotColumns": null,
       "position": 21.5,
       "resultDbfsErrorMessage": null,
       "resultDbfsStatus": "INLINED_IN_TREE",
       "results": null,
       "showCommandTitle": false,
       "startTime": 0,
       "state": "input",
       "streamStates": {},
       "subcommandOptions": {
        "queryPlan": {
         "groups": [
          {
           "column": "AIRLINE",
           "type": "column"
          }
         ],
         "selects": [
          {
           "column": "AIRLINE",
           "type": "column"
          },
          {
           "alias": "column_4a952dea251",
           "args": [
            {
             "column": "Number_of_flights_per_Carrier_completed",
             "type": "column"
            }
           ],
           "function": "SUM",
           "type": "function"
          }
         ]
        }
       },
       "submitTime": 0,
       "subtype": "tableResultSubCmd.visualization",
       "tableResultIndex": 0,
       "tableResultSettingsMap": {},
       "useConsistentColors": false,
       "version": "CommandV1",
       "width": "auto",
       "workflows": [],
       "xColumns": null,
       "yColumns": null
      }
     },
     "output_type": "display_data"
    }
   ],
   "source": [
    "%sql\n",
    "select AIRLINE, COUNT(DepTime) AS Number_of_flights_per_Carrier_completed\n",
    "from airlines a join flights_csv f on f.carrier=a.IATA_CODE\n",
    "GROUP BY AIRLINE"
   ]
  },
  {
   "cell_type": "code",
   "execution_count": 0,
   "metadata": {
    "application/vnd.databricks.v1+cell": {
     "cellMetadata": {
      "byteLimit": 2048000,
      "implicitDf": true,
      "rowLimit": 10000
     },
     "inputWidgets": {},
     "nuid": "8f56d20b-4be7-4de6-b4f1-b78e8a349a21",
     "showTitle": false,
     "tableResultSettingsMap": {},
     "title": ""
    }
   },
   "outputs": [
    {
     "output_type": "display_data",
     "data": {
      "text/html": [
       "<style scoped>\n",
       "  .table-result-container {\n",
       "    max-height: 300px;\n",
       "    overflow: auto;\n",
       "  }\n",
       "  table, th, td {\n",
       "    border: 1px solid black;\n",
       "    border-collapse: collapse;\n",
       "  }\n",
       "  th, td {\n",
       "    padding: 5px;\n",
       "  }\n",
       "  th {\n",
       "    text-align: left;\n",
       "  }\n",
       "</style><div class='table-result-container'><table class='table-result'><thead style='background-color: white'><tr><th>Number_of_flights_per_Carrier_total</th><th>AIRLINE</th><th>r</th></tr></thead><tbody><tr><td>15312</td><td>Alaska Airlines Inc.</td><td>9</td></tr><tr><td>71254</td><td>Delta Air Lines Inc.</td><td>3</td></tr><tr><td>20166</td><td>Atlantic Southeast Airlines</td><td>8</td></tr><tr><td>73598</td><td>American Airlines Inc.</td><td>2</td></tr><tr><td>22502</td><td>American Eagle Airlines Inc.</td><td>7</td></tr><tr><td>45384</td><td>United Air Lines Inc.</td><td>5</td></tr><tr><td>109676</td><td>Southwest Airlines Co.</td><td>1</td></tr><tr><td>62207</td><td>Skywest Airlines Inc.</td><td>4</td></tr><tr><td>24871</td><td>JetBlue Airways</td><td>6</td></tr><tr><td>36338</td><td>Other</td><td>10</td></tr></tbody></table></div>"
      ]
     },
     "metadata": {
      "application/vnd.databricks.v1+output": {
       "addedWidgets": {},
       "aggData": [],
       "aggError": "",
       "aggOverflow": false,
       "aggSchema": [],
       "aggSeriesLimitReached": false,
       "aggType": "",
       "arguments": {},
       "columnCustomDisplayInfos": {},
       "data": [
        [
         15312,
         "Alaska Airlines Inc.",
         9
        ],
        [
         71254,
         "Delta Air Lines Inc.",
         3
        ],
        [
         20166,
         "Atlantic Southeast Airlines",
         8
        ],
        [
         73598,
         "American Airlines Inc.",
         2
        ],
        [
         22502,
         "American Eagle Airlines Inc.",
         7
        ],
        [
         45384,
         "United Air Lines Inc.",
         5
        ],
        [
         109676,
         "Southwest Airlines Co.",
         1
        ],
        [
         62207,
         "Skywest Airlines Inc.",
         4
        ],
        [
         24871,
         "JetBlue Airways",
         6
        ],
        [
         36338,
         "Other",
         10
        ]
       ],
       "datasetInfos": [],
       "dbfsResultPath": null,
       "isJsonSchema": true,
       "metadata": {},
       "overflow": false,
       "plotOptions": {
        "customPlotOptions": {},
        "displayType": "table",
        "pivotAggregation": null,
        "pivotColumns": null,
        "xColumns": null,
        "yColumns": null
       },
       "removedWidgets": [],
       "schema": [
        {
         "metadata": "{}",
         "name": "Number_of_flights_per_Carrier_total",
         "type": "\"long\""
        },
        {
         "metadata": "{}",
         "name": "AIRLINE",
         "type": "\"string\""
        },
        {
         "metadata": "{}",
         "name": "r",
         "type": "\"integer\""
        }
       ],
       "type": "table"
      }
     },
     "output_type": "display_data"
    },
    {
     "output_type": "display_data",
     "data": {
      "text/plain": [
       "Databricks visualization. Run in Databricks to view."
      ]
     },
     "metadata": {
      "application/vnd.databricks.v1.subcommand+json": {
       "baseErrorDetails": null,
       "bindings": {},
       "collapsed": false,
       "command": "%sql WITH q AS (SELECT Number_of_flights_per_Airline_total, AIRLINE, r\nFROM (SELECT Number_of_flights_per_Airline_total, AIRLINE, RANK() OVER (ORDER BY Number_of_flights_per_Airline_total DESC) AS r\n    FROM new_view\n      order by Number_of_flights_per_Airline_total desc)\nWHERE r <= 9\n\nUNION\n\nSELECT SUM(Number_of_flights_per_Airline_total) AS Number_of_flights_per_Airline_total, 'Other' AS AIRLINE, 10 AS r\nFROM (SELECT Number_of_flights_per_Airline_total, AIRLINE, RANK() OVER (ORDER BY Number_of_flights_per_Airline_total DESC) AS r\n    FROM new_view\n      order by Number_of_flights_per_Airline_total desc)\nWHERE r > 9) SELECT `AIRLINE`,SUM(`Number_of_flights_per_Airline_total`) `column_4a952dea206` FROM q GROUP BY `AIRLINE`",
       "commandTitle": "Visualization 1",
       "commandType": "auto",
       "commandVersion": 0,
       "commentThread": [],
       "commentsVisible": false,
       "contentSha256Hex": null,
       "customPlotOptions": {
        "redashChart": [
         {
          "key": "type",
          "value": "CHART"
         },
         {
          "key": "options",
          "value": {
           "alignYAxesAtZero": true,
           "coefficient": 1,
           "columnConfigurationMap": {
            "x": {
             "column": "AIRLINE",
             "id": "column_4a952dea208"
            },
            "y": [
             {
              "column": "Number_of_flights_per_Carrier_total",
              "id": "column_4a952dea206",
              "transform": "SUM"
             }
            ]
           },
           "dateTimeFormat": "DD/MM/YYYY HH:mm",
           "direction": {
            "type": "counterclockwise"
           },
           "error_y": {
            "type": "data",
            "visible": true
           },
           "globalSeriesType": "pie",
           "isAggregationOn": true,
           "legend": {
            "traceorder": "normal"
           },
           "missingValuesAsZero": true,
           "numberFormat": "0,0[.]00000",
           "percentFormat": "0[.]00%",
           "series": {
            "error_y": {
             "type": "data",
             "visible": true
            },
            "stacking": null
           },
           "seriesOptions": {
            "column_4a952dea206": {
             "name": "r",
             "type": "pie",
             "yAxis": 0
            }
           },
           "showDataLabels": true,
           "sizemode": "diameter",
           "sortX": true,
           "sortY": true,
           "swappedAxes": false,
           "textFormat": "",
           "useAggregationsUi": true,
           "valuesOptions": {},
           "version": 2,
           "xAxis": {
            "labels": {
             "enabled": true
            },
            "type": "-"
           },
           "yAxis": [
            {
             "type": "-"
            },
            {
             "opposite": true,
             "type": "-"
            }
           ]
          }
         }
        ]
       },
       "datasetPreviewNameToCmdIdMap": {},
       "diffDeletes": [],
       "diffInserts": [],
       "displayType": "redashChart",
       "error": null,
       "errorDetails": null,
       "errorSummary": null,
       "errorTraceType": null,
       "finishTime": 0,
       "globalVars": {},
       "guid": "",
       "height": "auto",
       "hideCommandCode": false,
       "hideCommandResult": false,
       "iPythonMetadata": null,
       "inputWidgets": {},
       "isLockedInExamMode": false,
       "latestUser": "a user",
       "latestUserId": null,
       "listResultMetadata": null,
       "metadata": {},
       "nuid": "4c693ed7-f14c-4a81-af87-7846777c4b23",
       "origId": 0,
       "parentHierarchy": [],
       "pivotAggregation": null,
       "pivotColumns": null,
       "position": 22.0,
       "resultDbfsErrorMessage": null,
       "resultDbfsStatus": "INLINED_IN_TREE",
       "results": null,
       "showCommandTitle": false,
       "startTime": 0,
       "state": "input",
       "streamStates": {},
       "subcommandOptions": {
        "queryPlan": {
         "groups": [
          {
           "column": "AIRLINE",
           "type": "column"
          }
         ],
         "selects": [
          {
           "column": "AIRLINE",
           "type": "column"
          },
          {
           "alias": "column_4a952dea206",
           "args": [
            {
             "column": "Number_of_flights_per_Carrier_total",
             "type": "column"
            }
           ],
           "function": "SUM",
           "type": "function"
          }
         ]
        }
       },
       "submitTime": 0,
       "subtype": "tableResultSubCmd.visualization",
       "tableResultIndex": 0,
       "tableResultSettingsMap": {},
       "useConsistentColors": false,
       "version": "CommandV1",
       "width": "auto",
       "workflows": [],
       "xColumns": null,
       "yColumns": null
      }
     },
     "output_type": "display_data"
    }
   ],
   "source": [
    "%sql\n",
    "CREATE OR REPLACE TEMPORARY VIEW new_view AS\n",
    "select a.AIRLINE, COUNT(*) AS Number_of_flights_per_Carrier_total\n",
    "from airlines a JOIN flights_csv f ON f.carrier = a.IATA_CODE\n",
    "GROUP BY a.AIRLINE;\n",
    "\n",
    "SELECT Number_of_flights_per_Carrier_total, AIRLINE, r\n",
    "FROM (SELECT Number_of_flights_per_Carrier_total, AIRLINE, RANK() OVER (ORDER BY Number_of_flights_per_Carrier_total DESC) AS r\n",
    "    FROM new_view\n",
    "      order by Number_of_flights_per_Carrier_total desc)\n",
    "WHERE r <= 9\n",
    "\n",
    "UNION\n",
    "\n",
    "SELECT SUM(Number_of_flights_per_Carrier_total) AS Number_of_flights_per_Carrier_total, 'Other' AS AIRLINE, 10 AS r\n",
    "FROM (SELECT Number_of_flights_per_Carrier_total, AIRLINE, RANK() OVER (ORDER BY Number_of_flights_per_Carrier_total DESC) AS r\n",
    "    FROM new_view\n",
    "      order by Number_of_flights_per_Carrier_total desc)\n",
    "WHERE r > 9;\n"
   ]
  },
  {
   "cell_type": "code",
   "execution_count": 0,
   "metadata": {
    "application/vnd.databricks.v1+cell": {
     "cellMetadata": {
      "byteLimit": 2048000,
      "implicitDf": true,
      "rowLimit": 10000
     },
     "inputWidgets": {},
     "nuid": "77ee5f95-f5f0-488e-ba76-2e0b76418449",
     "showTitle": false,
     "tableResultSettingsMap": {},
     "title": ""
    }
   },
   "outputs": [
    {
     "output_type": "display_data",
     "data": {
      "text/html": [
       "<style scoped>\n",
       "  .table-result-container {\n",
       "    max-height: 300px;\n",
       "    overflow: auto;\n",
       "  }\n",
       "  table, th, td {\n",
       "    border: 1px solid black;\n",
       "    border-collapse: collapse;\n",
       "  }\n",
       "  th, td {\n",
       "    padding: 5px;\n",
       "  }\n",
       "  th {\n",
       "    text-align: left;\n",
       "  }\n",
       "</style><div class='table-result-container'><table class='table-result'><thead style='background-color: white'><tr><th>Number_of_flights_per_Carrier_total</th><th>AIRLINE</th><th>r</th></tr></thead><tbody><tr><td>109676</td><td>WN</td><td>1</td></tr><tr><td>93051</td><td>others</td><td>2</td></tr><tr><td>73598</td><td>AA</td><td>3</td></tr><tr><td>71254</td><td>DL</td><td>4</td></tr><tr><td>62207</td><td>OO</td><td>5</td></tr><tr><td>45384</td><td>UA</td><td>6</td></tr><tr><td>25212</td><td>YX</td><td>7</td></tr><tr><td>24871</td><td>B6</td><td>8</td></tr><tr><td>22502</td><td>MQ</td><td>9</td></tr><tr><td>22210</td><td>OH</td><td>10</td></tr><tr><td>20166</td><td>EV</td><td>11</td></tr></tbody></table></div>"
      ]
     },
     "metadata": {
      "application/vnd.databricks.v1+output": {
       "addedWidgets": {},
       "aggData": [],
       "aggError": "",
       "aggOverflow": false,
       "aggSchema": [],
       "aggSeriesLimitReached": false,
       "aggType": "",
       "arguments": {},
       "columnCustomDisplayInfos": {},
       "data": [
        [
         109676,
         "WN",
         1
        ],
        [
         93051,
         "others",
         2
        ],
        [
         73598,
         "AA",
         3
        ],
        [
         71254,
         "DL",
         4
        ],
        [
         62207,
         "OO",
         5
        ],
        [
         45384,
         "UA",
         6
        ],
        [
         25212,
         "YX",
         7
        ],
        [
         24871,
         "B6",
         8
        ],
        [
         22502,
         "MQ",
         9
        ],
        [
         22210,
         "OH",
         10
        ],
        [
         20166,
         "EV",
         11
        ]
       ],
       "datasetInfos": [],
       "dbfsResultPath": null,
       "isJsonSchema": true,
       "metadata": {},
       "overflow": false,
       "plotOptions": {
        "customPlotOptions": {},
        "displayType": "table",
        "pivotAggregation": null,
        "pivotColumns": null,
        "xColumns": null,
        "yColumns": null
       },
       "removedWidgets": [],
       "schema": [
        {
         "metadata": "{}",
         "name": "Number_of_flights_per_Carrier_total",
         "type": "\"long\""
        },
        {
         "metadata": "{}",
         "name": "AIRLINE",
         "type": "\"string\""
        },
        {
         "metadata": "{}",
         "name": "r",
         "type": "\"integer\""
        }
       ],
       "type": "table"
      }
     },
     "output_type": "display_data"
    },
    {
     "output_type": "display_data",
     "data": {
      "text/plain": [
       "Databricks visualization. Run in Databricks to view."
      ]
     },
     "metadata": {
      "application/vnd.databricks.v1.subcommand+json": {
       "baseErrorDetails": null,
       "bindings": {},
       "collapsed": false,
       "command": "%sql WITH q AS (SELECT Number_of_flights_per_Carrier_total, AIRLINE, r\nFROM (SELECT Number_of_flights_per_Carrier_total, AIRLINE, RANK() OVER (ORDER BY Number_of_flights_per_Carrier_total DESC) AS r\n    FROM new_view\n      order by Number_of_flights_per_Carrier_total desc)\nWHERE r <= 11) SELECT `AIRLINE`,SUM(`Number_of_flights_per_Carrier_total`) `column_99c00f2635` FROM q GROUP BY `AIRLINE`",
       "commandTitle": "Visualization 1",
       "commandType": "auto",
       "commandVersion": 0,
       "commentThread": [],
       "commentsVisible": false,
       "contentSha256Hex": null,
       "customPlotOptions": {
        "redashChart": [
         {
          "key": "type",
          "value": "CHART"
         },
         {
          "key": "options",
          "value": {
           "alignYAxesAtZero": true,
           "coefficient": 1,
           "columnConfigurationMap": {
            "x": {
             "column": "AIRLINE",
             "id": "column_99c00f2637"
            },
            "y": [
             {
              "column": "Number_of_flights_per_Carrier_total",
              "id": "column_99c00f2635",
              "transform": "SUM"
             }
            ]
           },
           "dateTimeFormat": "DD/MM/YYYY HH:mm",
           "direction": {
            "type": "counterclockwise"
           },
           "error_y": {
            "type": "data",
            "visible": true
           },
           "globalSeriesType": "pie",
           "isAggregationOn": true,
           "legend": {
            "traceorder": "normal"
           },
           "missingValuesAsZero": true,
           "numberFormat": "0,0.[00000]",
           "percentFormat": "0[.]00%",
           "series": {
            "error_y": {
             "type": "data",
             "visible": true
            },
            "stacking": null
           },
           "seriesOptions": {
            "column_99c00f2635": {
             "name": "r",
             "type": "pie",
             "yAxis": 0
            }
           },
           "showDataLabels": true,
           "sizemode": "diameter",
           "sortX": true,
           "sortY": true,
           "swappedAxes": false,
           "textFormat": "",
           "useAggregationsUi": true,
           "valuesOptions": {},
           "version": 2,
           "xAxis": {
            "labels": {
             "enabled": true
            },
            "type": "-"
           },
           "yAxis": [
            {
             "type": "-"
            },
            {
             "opposite": true,
             "type": "-"
            }
           ]
          }
         }
        ]
       },
       "datasetPreviewNameToCmdIdMap": {},
       "diffDeletes": [],
       "diffInserts": [],
       "displayType": "redashChart",
       "error": null,
       "errorDetails": null,
       "errorSummary": null,
       "errorTraceType": null,
       "finishTime": 0,
       "globalVars": {},
       "guid": "",
       "height": "auto",
       "hideCommandCode": false,
       "hideCommandResult": false,
       "iPythonMetadata": null,
       "inputWidgets": {},
       "isLockedInExamMode": false,
       "latestUser": "a user",
       "latestUserId": null,
       "listResultMetadata": null,
       "metadata": {},
       "nuid": "c244a5d2-902b-47e6-b030-ec5504e5dd37",
       "origId": 0,
       "parentHierarchy": [],
       "pivotAggregation": null,
       "pivotColumns": null,
       "position": 23.72265625,
       "resultDbfsErrorMessage": null,
       "resultDbfsStatus": "INLINED_IN_TREE",
       "results": null,
       "showCommandTitle": false,
       "startTime": 0,
       "state": "input",
       "streamStates": {},
       "subcommandOptions": {
        "queryPlan": {
         "groups": [
          {
           "column": "AIRLINE",
           "type": "column"
          }
         ],
         "selects": [
          {
           "column": "AIRLINE",
           "type": "column"
          },
          {
           "alias": "column_99c00f2635",
           "args": [
            {
             "column": "Number_of_flights_per_Carrier_total",
             "type": "column"
            }
           ],
           "function": "SUM",
           "type": "function"
          }
         ]
        }
       },
       "submitTime": 0,
       "subtype": "tableResultSubCmd.visualization",
       "tableResultIndex": 0,
       "tableResultSettingsMap": {},
       "useConsistentColors": false,
       "version": "CommandV1",
       "width": "auto",
       "workflows": [],
       "xColumns": null,
       "yColumns": null
      }
     },
     "output_type": "display_data"
    }
   ],
   "source": [
    "%sql\n",
    "CREATE OR REPLACE TEMPORARY VIEW new_view AS\n",
    "SELECT \n",
    "    COALESCE(top.carrier, 'others') AS AIRLINE, \n",
    "    COUNT(flights_csv.flightnum) AS Number_of_flights_per_Carrier_total \n",
    "FROM \n",
    "    flights_csv\n",
    "LEFT JOIN (\n",
    "    SELECT \n",
    "        carrier, \n",
    "        COUNT(flightnum) AS Number_of_flights_per_Carrier_total\n",
    "    FROM \n",
    "        flights_csv\n",
    "    GROUP BY \n",
    "        carrier\n",
    "    ORDER BY \n",
    "        Number_of_flights_per_Carrier_total DESC\n",
    "    LIMIT 10\n",
    ") top ON flights_csv.carrier = top.carrier\n",
    "GROUP BY \n",
    "    AIRLINE;\n",
    "\n",
    "SELECT Number_of_flights_per_Carrier_total, AIRLINE, r\n",
    "FROM (SELECT Number_of_flights_per_Carrier_total, AIRLINE, RANK() OVER (ORDER BY Number_of_flights_per_Carrier_total DESC) AS r\n",
    "    FROM new_view\n",
    "      order by Number_of_flights_per_Carrier_total desc)\n",
    "WHERE r <= 11"
   ]
  },
  {
   "cell_type": "code",
   "execution_count": 0,
   "metadata": {
    "application/vnd.databricks.v1+cell": {
     "cellMetadata": {
      "byteLimit": 2048000,
      "implicitDf": true,
      "rowLimit": 10000
     },
     "inputWidgets": {},
     "nuid": "8fd2f667-b8aa-49ab-94fc-f1d283ff67ff",
     "showTitle": false,
     "tableResultSettingsMap": {},
     "title": ""
    }
   },
   "outputs": [
    {
     "output_type": "display_data",
     "data": {
      "text/html": [
       "<style scoped>\n",
       "  .table-result-container {\n",
       "    max-height: 300px;\n",
       "    overflow: auto;\n",
       "  }\n",
       "  table, th, td {\n",
       "    border: 1px solid black;\n",
       "    border-collapse: collapse;\n",
       "  }\n",
       "  th, td {\n",
       "    padding: 5px;\n",
       "  }\n",
       "  th {\n",
       "    text-align: left;\n",
       "  }\n",
       "</style><div class='table-result-container'><table class='table-result'><thead style='background-color: white'><tr><th>Number_of_flights_per_Carrier_total</th><th>AIRLINE</th><th>r</th></tr></thead><tbody><tr><td>20166</td><td>Atlantic Southeast Airlines</td><td>9</td></tr><tr><td>88823</td><td>other_airlines</td><td>2</td></tr><tr><td>22502</td><td>American Eagle Airlines Inc.</td><td>8</td></tr><tr><td>15312</td><td>Alaska Airlines Inc.</td><td>10</td></tr><tr><td>109676</td><td>Southwest Airlines Co.</td><td>1</td></tr><tr><td>45384</td><td>United Air Lines Inc.</td><td>6</td></tr><tr><td>71254</td><td>Delta Air Lines Inc.</td><td>4</td></tr><tr><td>73598</td><td>American Airlines Inc.</td><td>3</td></tr><tr><td>24871</td><td>JetBlue Airways</td><td>7</td></tr><tr><td>62207</td><td>Skywest Airlines Inc.</td><td>5</td></tr><tr><td>36338</td><td>Other</td><td>11</td></tr></tbody></table></div>"
      ]
     },
     "metadata": {
      "application/vnd.databricks.v1+output": {
       "addedWidgets": {},
       "aggData": [],
       "aggError": "",
       "aggOverflow": false,
       "aggSchema": [],
       "aggSeriesLimitReached": false,
       "aggType": "",
       "arguments": {},
       "columnCustomDisplayInfos": {},
       "data": [
        [
         20166,
         "Atlantic Southeast Airlines",
         9
        ],
        [
         88823,
         "other_airlines",
         2
        ],
        [
         22502,
         "American Eagle Airlines Inc.",
         8
        ],
        [
         15312,
         "Alaska Airlines Inc.",
         10
        ],
        [
         109676,
         "Southwest Airlines Co.",
         1
        ],
        [
         45384,
         "United Air Lines Inc.",
         6
        ],
        [
         71254,
         "Delta Air Lines Inc.",
         4
        ],
        [
         73598,
         "American Airlines Inc.",
         3
        ],
        [
         24871,
         "JetBlue Airways",
         7
        ],
        [
         62207,
         "Skywest Airlines Inc.",
         5
        ],
        [
         36338,
         "Other",
         11
        ]
       ],
       "datasetInfos": [],
       "dbfsResultPath": null,
       "isJsonSchema": true,
       "metadata": {},
       "overflow": false,
       "plotOptions": {
        "customPlotOptions": {},
        "displayType": "table",
        "pivotAggregation": null,
        "pivotColumns": null,
        "xColumns": null,
        "yColumns": null
       },
       "removedWidgets": [],
       "schema": [
        {
         "metadata": "{}",
         "name": "Number_of_flights_per_Carrier_total",
         "type": "\"long\""
        },
        {
         "metadata": "{}",
         "name": "AIRLINE",
         "type": "\"string\""
        },
        {
         "metadata": "{}",
         "name": "r",
         "type": "\"integer\""
        }
       ],
       "type": "table"
      }
     },
     "output_type": "display_data"
    },
    {
     "output_type": "display_data",
     "data": {
      "text/plain": [
       "Databricks visualization. Run in Databricks to view."
      ]
     },
     "metadata": {
      "application/vnd.databricks.v1.subcommand+json": {
       "baseErrorDetails": null,
       "bindings": {},
       "collapsed": false,
       "command": "%sql WITH q AS (SELECT Number_of_flights_per_Carrier_total, AIRLINE, r\nFROM (SELECT Number_of_flights_per_Carrier_total, AIRLINE, RANK() OVER (ORDER BY Number_of_flights_per_Carrier_total DESC) AS r\n    FROM new_view\n      order by Number_of_flights_per_Carrier_total desc)\nWHERE r <= 10\n\nUNION\n\nSELECT SUM(Number_of_flights_per_Carrier_total) AS Number_of_flights_per_Carrier_total, 'Other' AS AIRLINE, 11 AS r\nFROM (SELECT Number_of_flights_per_Carrier_total, AIRLINE, RANK() OVER (ORDER BY Number_of_flights_per_Carrier_total DESC) AS r\n    FROM new_view\n      order by Number_of_flights_per_Carrier_total desc)\nWHERE r > 10) SELECT `AIRLINE`,SUM(`Number_of_flights_per_Carrier_total`) `column_99c00f2616` FROM q GROUP BY `AIRLINE`",
       "commandTitle": "Visualization 1",
       "commandType": "auto",
       "commandVersion": 0,
       "commentThread": [],
       "commentsVisible": false,
       "contentSha256Hex": null,
       "customPlotOptions": {
        "redashChart": [
         {
          "key": "type",
          "value": "CHART"
         },
         {
          "key": "options",
          "value": {
           "alignYAxesAtZero": true,
           "coefficient": 1,
           "columnConfigurationMap": {
            "x": {
             "column": "AIRLINE",
             "id": "column_99c00f2618"
            },
            "y": [
             {
              "column": "Number_of_flights_per_Carrier_total",
              "id": "column_99c00f2616",
              "transform": "SUM"
             }
            ]
           },
           "dateTimeFormat": "DD/MM/YYYY HH:mm",
           "direction": {
            "type": "counterclockwise"
           },
           "error_y": {
            "type": "data",
            "visible": true
           },
           "globalSeriesType": "pie",
           "isAggregationOn": true,
           "legend": {
            "traceorder": "normal"
           },
           "missingValuesAsZero": true,
           "numberFormat": "0,0.[00000]",
           "percentFormat": "0[.]00%",
           "series": {
            "error_y": {
             "type": "data",
             "visible": true
            },
            "stacking": null
           },
           "seriesOptions": {
            "column_99c00f2616": {
             "name": "r",
             "type": "pie",
             "yAxis": 0
            }
           },
           "showDataLabels": true,
           "sizemode": "diameter",
           "sortX": true,
           "sortY": true,
           "swappedAxes": false,
           "textFormat": "",
           "useAggregationsUi": true,
           "valuesOptions": {},
           "version": 2,
           "xAxis": {
            "labels": {
             "enabled": true
            },
            "type": "-"
           },
           "yAxis": [
            {
             "type": "-"
            },
            {
             "opposite": true,
             "type": "-"
            }
           ]
          }
         }
        ]
       },
       "datasetPreviewNameToCmdIdMap": {},
       "diffDeletes": [],
       "diffInserts": [],
       "displayType": "redashChart",
       "error": null,
       "errorDetails": null,
       "errorSummary": null,
       "errorTraceType": null,
       "finishTime": 0,
       "globalVars": {},
       "guid": "",
       "height": "auto",
       "hideCommandCode": false,
       "hideCommandResult": false,
       "iPythonMetadata": null,
       "inputWidgets": {},
       "isLockedInExamMode": false,
       "latestUser": "a user",
       "latestUserId": null,
       "listResultMetadata": null,
       "metadata": {},
       "nuid": "52109727-f8f0-449e-862c-440f11c2800c",
       "origId": 0,
       "parentHierarchy": [],
       "pivotAggregation": null,
       "pivotColumns": null,
       "position": 23.796875,
       "resultDbfsErrorMessage": null,
       "resultDbfsStatus": "INLINED_IN_TREE",
       "results": null,
       "showCommandTitle": false,
       "startTime": 0,
       "state": "input",
       "streamStates": {},
       "subcommandOptions": {
        "queryPlan": {
         "groups": [
          {
           "column": "AIRLINE",
           "type": "column"
          }
         ],
         "selects": [
          {
           "column": "AIRLINE",
           "type": "column"
          },
          {
           "alias": "column_99c00f2616",
           "args": [
            {
             "column": "Number_of_flights_per_Carrier_total",
             "type": "column"
            }
           ],
           "function": "SUM",
           "type": "function"
          }
         ]
        }
       },
       "submitTime": 0,
       "subtype": "tableResultSubCmd.visualization",
       "tableResultIndex": 0,
       "tableResultSettingsMap": {},
       "useConsistentColors": false,
       "version": "CommandV1",
       "width": "auto",
       "workflows": [],
       "xColumns": null,
       "yColumns": null
      }
     },
     "output_type": "display_data"
    }
   ],
   "source": [
    "%sql\n",
    "CREATE OR REPLACE TEMPORARY VIEW new_view AS\n",
    "SELECT \n",
    "    AIRLINE,\n",
    "    sum(SumCarrier) AS Number_of_flights_per_Carrier_total\n",
    "FROM (\n",
    "    SELECT \n",
    "        flights_csv.Carrier,\n",
    "        count(flights_csv.Carrier) AS SumCarrier,\n",
    "        COALESCE(MAX(airlines.AIRLINE), 'other_airlines') AS AIRLINE\n",
    "    FROM \n",
    "        flights_csv\n",
    "    LEFT JOIN \n",
    "        airlines ON flights_csv.Carrier = airlines.IATA_CODE\n",
    "    GROUP BY \n",
    "        flights_csv.Carrier\n",
    ") AS Subquery\n",
    "GROUP BY \n",
    "    AIRLINE;\n",
    "\n",
    "\n",
    "SELECT Number_of_flights_per_Carrier_total, AIRLINE, r\n",
    "FROM (SELECT Number_of_flights_per_Carrier_total, AIRLINE, RANK() OVER (ORDER BY Number_of_flights_per_Carrier_total DESC) AS r\n",
    "    FROM new_view\n",
    "      order by Number_of_flights_per_Carrier_total desc)\n",
    "WHERE r <= 10\n",
    "\n",
    "UNION\n",
    "\n",
    "SELECT SUM(Number_of_flights_per_Carrier_total) AS Number_of_flights_per_Carrier_total, 'Other' AS AIRLINE, 11 AS r\n",
    "FROM (SELECT Number_of_flights_per_Carrier_total, AIRLINE, RANK() OVER (ORDER BY Number_of_flights_per_Carrier_total DESC) AS r\n",
    "    FROM new_view\n",
    "      order by Number_of_flights_per_Carrier_total desc)\n",
    "WHERE r > 10;"
   ]
  }
 ],
 "metadata": {
  "application/vnd.databricks.v1+notebook": {
   "computePreferences": null,
   "dashboards": [],
   "environmentMetadata": null,
   "language": "python",
   "notebookMetadata": {
    "mostRecentlyExecutedCommandWithImplicitDF": {
     "commandId": 3875770728554114,
     "dataframes": [
      "_sqldf"
     ]
    },
    "pythonIndentUnit": 4
   },
   "notebookName": "Flights",
   "widgets": {}
  }
 },
 "nbformat": 4,
 "nbformat_minor": 0
}
